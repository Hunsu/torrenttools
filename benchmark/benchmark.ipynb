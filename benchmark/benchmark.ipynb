{
 "metadata": {
  "language_info": {
   "codemirror_mode": {
    "name": "ipython",
    "version": 3
   },
   "file_extension": ".py",
   "mimetype": "text/x-python",
   "name": "python",
   "nbconvert_exporter": "python",
   "pygments_lexer": "ipython3",
   "version": "3.9.2-final"
  },
  "orig_nbformat": 2,
  "kernelspec": {
   "name": "python392jvsc74a57bd0767d51c1340bd893661ea55ea3124f6de3c7a262a8b4abca0554b478b1e2ff90",
   "display_name": "Python 3.9.2 64-bit ('base': conda)"
  }
 },
 "nbformat": 4,
 "nbformat_minor": 2,
 "cells": [
  {
   "cell_type": "code",
   "execution_count": 2,
   "metadata": {},
   "outputs": [],
   "source": [
    "import numpy as np\n",
    "import pandas as pd\n",
    "import matplotlib.pyplot as plt\n",
    "import re\n",
    "from IPython.display import Javascript\n",
    "import getpass"
   ]
  },
  {
   "cell_type": "code",
   "execution_count": 3,
   "metadata": {},
   "outputs": [],
   "source": [
    "password = None\n",
    "if password is None:\n",
    "    password = getpass.getpass()"
   ]
  },
  {
   "cell_type": "code",
   "execution_count": 3,
   "metadata": {},
   "outputs": [
    {
     "output_type": "stream",
     "name": "stdout",
     "text": [
      "[sudo] password for fbdtemme: "
     ]
    }
   ],
   "source": [
    "!echo $password | sudo -S mount -t tmpfs -o size=20g tmpfs /mnt/tmpfs/\n",
    "!head -c 20G /dev/urandom >  /mnt/tmpfs/data"
   ]
  },
  {
   "cell_type": "code",
   "execution_count": 4,
   "metadata": {},
   "outputs": [],
   "source": [
    "pwd = \"/mnt/tmpfs\"\n",
    "max_threads = 4\n",
    "iterations = 3\n",
    "target = 'data'"
   ]
  },
  {
   "cell_type": "code",
   "execution_count": 5,
   "metadata": {},
   "outputs": [],
   "source": [
    "fs = !du -b $pwd/$target | grep -o \"[0-9]*\"\n",
    "file_size = int(fs[0])"
   ]
  },
  {
   "cell_type": "code",
   "execution_count": 6,
   "metadata": {},
   "outputs": [
    {
     "output_type": "execute_result",
     "data": {
      "text/plain": [
       "21474836480"
      ]
     },
     "metadata": {},
     "execution_count": 6
    }
   ],
   "source": [
    "file_size"
   ]
  },
  {
   "cell_type": "code",
   "execution_count": 7,
   "metadata": {},
   "outputs": [
    {
     "output_type": "stream",
     "name": "stdout",
     "text": [
      "[sudo] password for fbdtemme: Setting cpu: 0\n",
      "Setting cpu: 1\n",
      "Setting cpu: 2\n",
      "Setting cpu: 3\n",
      "Setting cpu: 4\n",
      "Setting cpu: 5\n",
      "Setting cpu: 6\n",
      "Setting cpu: 7\n"
     ]
    }
   ],
   "source": [
    "# Disable cpu frequency scaling\n",
    "!echo $password | sudo -S cpupower frequency-set -g performance"
   ]
  },
  {
   "cell_type": "code",
   "execution_count": 8,
   "metadata": {},
   "outputs": [],
   "source": [
    "def parse_real_time(data: str):\n",
    "    results = []\n",
    "    match = re.search(R\"real\\s(\\d+)m([\\d.]+)s\", data)\n",
    "    minutes = float(match.group(1))\n",
    "    seconds = float(match.group(2))\n",
    "    return minutes * 60 + seconds\n",
    "\n",
    "def parse_real_time_sequence(data: str):\n",
    "    results = []\n",
    "    for match in re.findall(R\"real\\s(\\d+)m([\\d.]+)s\", data):\n",
    "        print(match[0])\n",
    "        print(match[1])\n",
    "        minutes = float(match[0])\n",
    "        seconds = float(match[1])\n",
    "        results.append(minutes * 60 + seconds)\n",
    "    return results"
   ]
  },
  {
   "cell_type": "code",
   "execution_count": 9,
   "metadata": {},
   "outputs": [],
   "source": [
    "data = {}"
   ]
  },
  {
   "cell_type": "code",
   "execution_count": 10,
   "metadata": {},
   "outputs": [],
   "source": [
    "def run_benchmark(name: str, use_threads:bool = True):\n",
    "    duration = np.ndarray(shape=(iterations, max_threads))\n",
    "    \n",
    "    if use_threads:\n",
    "        for t in range(1, max_threads+1):\n",
    "            for i in range(0, iterations):\n",
    "                result = !./benchmark.sh \"{name}\" \"{pwd}\" \"{target}\" \"{t}\"\n",
    "                result_str = '\\n'.join(result)\n",
    "                print(f\"-- iteration {i+1} | threads {t}\\n{result_str}\")\n",
    "                duration[i, t-1] = parse_real_time(result_str)\n",
    "    else:\n",
    "        for i in range(0, iterations):\n",
    "            t = 1\n",
    "            result = !./benchmark.sh \"{name}\" \"{pwd}\" \"{target}\" \"{t}\"\n",
    "            result_str = '\\n'.join(result)\n",
    "            print(f\"-- iteration {i+1} | threads {t}\\n{result_str}\")\n",
    "            duration[i, :] = parse_real_time(result_str)\n",
    "\n",
    "    speed = file_size / duration\n",
    "    mean = np.mean(speed, axis=0)\n",
    "    std  = np.std(speed, axis=0)\n",
    "    return (mean, std)"
   ]
  },
  {
   "source": [
    "### mktorrent"
   ],
   "cell_type": "markdown",
   "metadata": {}
  },
  {
   "source": [
    "mktorrent_data = run_benchmark(\"mktorrent\")"
   ],
   "cell_type": "code",
   "metadata": {},
   "execution_count": 163,
   "outputs": [
    {
     "output_type": "stream",
     "name": "stdout",
     "text": [
      "-- iteration 1 | threads 1\n",
      "\n",
      "real\t0m24.658s\n",
      "user\t0m24.564s\n",
      "sys\t0m4.014s\n",
      "\n",
      "-- iteration 2 | threads 1\n",
      "\n",
      "real\t0m26.743s\n",
      "user\t0m26.588s\n",
      "sys\t0m6.149s\n",
      "\n",
      "-- iteration 3 | threads 1\n",
      "\n",
      "real\t0m25.067s\n",
      "user\t0m25.211s\n",
      "sys\t0m4.936s\n",
      "\n",
      "-- iteration 1 | threads 2\n",
      "\n",
      "real\t0m12.336s\n",
      "user\t0m24.587s\n",
      "sys\t0m3.970s\n",
      "\n",
      "-- iteration 2 | threads 2\n",
      "\n",
      "real\t0m12.345s\n",
      "user\t0m24.662s\n",
      "sys\t0m3.876s\n",
      "\n",
      "-- iteration 3 | threads 2\n",
      "\n",
      "real\t0m12.350s\n",
      "user\t0m24.630s\n",
      "sys\t0m3.896s\n",
      "\n",
      "-- iteration 1 | threads 3\n",
      "\n",
      "real\t0m8.320s\n",
      "user\t0m24.733s\n",
      "sys\t0m4.106s\n",
      "\n",
      "-- iteration 2 | threads 3\n",
      "\n",
      "real\t0m8.427s\n",
      "user\t0m25.103s\n",
      "sys\t0m4.126s\n",
      "\n",
      "-- iteration 3 | threads 3\n",
      "\n",
      "real\t0m10.355s\n",
      "user\t0m29.589s\n",
      "sys\t0m5.067s\n",
      "\n",
      "-- iteration 1 | threads 4\n",
      "\n",
      "real\t0m7.202s\n",
      "user\t0m28.176s\n",
      "sys\t0m4.462s\n",
      "\n",
      "-- iteration 2 | threads 4\n",
      "\n",
      "real\t0m6.749s\n",
      "user\t0m26.623s\n",
      "sys\t0m4.683s\n",
      "\n",
      "-- iteration 3 | threads 4\n",
      "\n",
      "real\t0m6.538s\n",
      "user\t0m25.863s\n",
      "sys\t0m4.455s\n",
      "\n"
     ]
    }
   ]
  },
  {
   "cell_type": "code",
   "execution_count": 148,
   "metadata": {},
   "outputs": [
    {
     "output_type": "stream",
     "name": "stdout",
     "text": [
      "-- iteration 1 | threads 1\n",
      "\n",
      "real\t0m25.037s\n",
      "user\t0m25.866s\n",
      "sys\t0m4.253s\n",
      "\n",
      "-- iteration 2 | threads 1\n",
      "\n",
      "real\t0m25.036s\n",
      "user\t0m25.846s\n",
      "sys\t0m4.554s\n",
      "\n",
      "-- iteration 3 | threads 1\n",
      "\n",
      "real\t0m25.036s\n",
      "user\t0m25.782s\n",
      "sys\t0m4.581s\n",
      "\n",
      "-- iteration 1 | threads 2\n",
      "\n",
      "real\t0m13.032s\n",
      "user\t0m26.208s\n",
      "sys\t0m4.615s\n",
      "\n",
      "-- iteration 2 | threads 2\n",
      "\n",
      "real\t0m13.032s\n",
      "user\t0m26.199s\n",
      "sys\t0m4.722s\n",
      "\n",
      "-- iteration 3 | threads 2\n",
      "\n",
      "real\t0m13.033s\n",
      "user\t0m26.259s\n",
      "sys\t0m4.805s\n",
      "\n",
      "-- iteration 1 | threads 3\n",
      "\n",
      "real\t0m8.843s\n",
      "user\t0m26.037s\n",
      "sys\t0m4.552s\n",
      "\n",
      "-- iteration 2 | threads 3\n",
      "\n",
      "real\t0m8.631s\n",
      "user\t0m25.714s\n",
      "sys\t0m4.321s\n",
      "\n",
      "-- iteration 3 | threads 3\n",
      "\n",
      "real\t0m8.841s\n",
      "user\t0m26.020s\n",
      "sys\t0m4.430s\n",
      "\n",
      "-- iteration 1 | threads 4\n",
      "\n",
      "real\t0m6.640s\n",
      "user\t0m25.525s\n",
      "sys\t0m4.262s\n",
      "\n",
      "-- iteration 2 | threads 4\n",
      "\n",
      "real\t0m6.639s\n",
      "user\t0m25.691s\n",
      "sys\t0m4.259s\n",
      "\n",
      "-- iteration 3 | threads 4\n",
      "\n",
      "real\t0m6.430s\n",
      "user\t0m25.464s\n",
      "sys\t0m4.227s\n",
      "\n"
     ]
    }
   ],
   "source": [
    "torrenttools_openssl_data = run_benchmark(\"torrenttools_openssl\")"
   ]
  },
  {
   "cell_type": "code",
   "execution_count": 177,
   "metadata": {},
   "outputs": [
    {
     "output_type": "stream",
     "name": "stdout",
     "text": [
      "-- iteration 1 | threads 1\n",
      "\n",
      "real\t0m8.834s\n",
      "user\t0m8.615s\n",
      "sys\t0m4.127s\n",
      "\n",
      "-- iteration 2 | threads 1\n",
      "\n",
      "real\t0m9.036s\n",
      "user\t0m8.813s\n",
      "sys\t0m4.298s\n",
      "\n",
      "-- iteration 3 | threads 1\n",
      "\n",
      "real\t0m9.035s\n",
      "user\t0m8.732s\n",
      "sys\t0m4.267s\n",
      "\n",
      "-- iteration 1 | threads 2\n",
      "\n",
      "real\t0m4.839s\n",
      "user\t0m9.246s\n",
      "sys\t0m4.572s\n",
      "\n",
      "-- iteration 2 | threads 2\n",
      "\n",
      "real\t0m5.239s\n",
      "user\t0m9.935s\n",
      "sys\t0m4.668s\n",
      "\n",
      "-- iteration 3 | threads 2\n",
      "\n",
      "real\t0m5.036s\n",
      "user\t0m9.433s\n",
      "sys\t0m4.626s\n",
      "\n",
      "-- iteration 1 | threads 3\n",
      "\n",
      "real\t0m5.045s\n",
      "user\t0m11.723s\n",
      "sys\t0m4.717s\n",
      "\n",
      "-- iteration 2 | threads 3\n",
      "\n",
      "real\t0m5.048s\n",
      "user\t0m12.280s\n",
      "sys\t0m4.794s\n",
      "\n",
      "-- iteration 3 | threads 3\n",
      "\n",
      "real\t0m5.045s\n",
      "user\t0m11.848s\n",
      "sys\t0m4.781s\n",
      "\n",
      "-- iteration 1 | threads 4\n",
      "\n",
      "real\t0m5.036s\n",
      "user\t0m12.315s\n",
      "sys\t0m4.881s\n",
      "\n",
      "-- iteration 2 | threads 4\n",
      "\n",
      "real\t0m5.046s\n",
      "user\t0m12.140s\n",
      "sys\t0m4.872s\n",
      "\n",
      "-- iteration 3 | threads 4\n",
      "\n",
      "real\t0m5.046s\n",
      "user\t0m12.136s\n",
      "sys\t0m4.863s\n",
      "\n"
     ]
    }
   ],
   "source": [
    "torrenttools_isal_data = run_benchmark(\"torrenttools_isal\")"
   ]
  },
  {
   "cell_type": "code",
   "execution_count": 14,
   "metadata": {},
   "outputs": [
    {
     "output_type": "stream",
     "name": "stdout",
     "text": [
      "-- iteration 1 | threads 1\n",
      "\n",
      "real\t0m49.640s\n",
      "user\t0m45.046s\n",
      "sys\t0m4.038s\n",
      "\n",
      "-- iteration 2 | threads 1\n",
      "\n",
      "real\t0m48.473s\n",
      "user\t0m44.369s\n",
      "sys\t0m3.654s\n",
      "\n",
      "-- iteration 3 | threads 1\n",
      "\n",
      "real\t0m54.762s\n",
      "user\t0m47.667s\n",
      "sys\t0m5.675s\n",
      "\n"
     ]
    }
   ],
   "source": [
    "imdl_data = run_benchmark(\"imdl\", use_threads=False)"
   ]
  },
  {
   "cell_type": "code",
   "execution_count": 15,
   "metadata": {},
   "outputs": [
    {
     "output_type": "stream",
     "name": "stdout",
     "text": [
      "-- iteration 1 | threads 1\n",
      "\n",
      "real\t0m45.398s\n",
      "user\t0m32.861s\n",
      "sys\t0m11.519s\n",
      "\n",
      "-- iteration 2 | threads 1\n",
      "\n",
      "real\t0m46.758s\n",
      "user\t0m33.550s\n",
      "sys\t0m12.022s\n",
      "\n",
      "-- iteration 3 | threads 1\n",
      "\n",
      "real\t0m46.282s\n",
      "user\t0m33.563s\n",
      "sys\t0m11.964s\n",
      "\n"
     ]
    }
   ],
   "source": [
    "dottorrent_cli_data = run_benchmark(\"dottorrent-cli\", use_threads=False)"
   ]
  },
  {
   "cell_type": "code",
   "execution_count": 16,
   "metadata": {},
   "outputs": [
    {
     "output_type": "stream",
     "name": "stdout",
     "text": [
      "-- iteration 1 | threads 1\n",
      "\n",
      "real\t0m29.641s\n",
      "user\t0m25.230s\n",
      "sys\t0m4.039s\n",
      "\n",
      "-- iteration 2 | threads 1\n",
      "\n",
      "real\t0m30.556s\n",
      "user\t0m25.640s\n",
      "sys\t0m4.534s\n",
      "\n",
      "-- iteration 3 | threads 1\n",
      "\n",
      "real\t0m32.703s\n",
      "user\t0m26.834s\n",
      "sys\t0m5.418s\n",
      "\n"
     ]
    }
   ],
   "source": [
    "pyrocore_data = run_benchmark(\"pyrocore\", use_threads=False)"
   ]
  },
  {
   "cell_type": "code",
   "execution_count": 17,
   "metadata": {},
   "outputs": [
    {
     "output_type": "stream",
     "name": "stdout",
     "text": [
      "-- iteration 1 | threads 1\n",
      "\n",
      "real\t0m33.512s\n",
      "user\t0m26.585s\n",
      "sys\t0m4.951s\n",
      "\n",
      "-- iteration 2 | threads 1\n",
      "rm: cannot remove '*.torrent': No such file or directory\n",
      "\n",
      "real\t0m30.008s\n",
      "user\t0m25.216s\n",
      "sys\t0m4.041s\n",
      "\n",
      "-- iteration 3 | threads 1\n",
      "rm: cannot remove '*.torrent': No such file or directory\n",
      "\n",
      "real\t0m29.511s\n",
      "user\t0m25.037s\n",
      "sys\t0m3.791s\n",
      "\n"
     ]
    }
   ],
   "source": [
    "transmission_create_data = run_benchmark(\"transmission-create\", use_threads=False)"
   ]
  },
  {
   "cell_type": "code",
   "execution_count": 18,
   "metadata": {},
   "outputs": [
    {
     "output_type": "stream",
     "name": "stdout",
     "text": [
      "-- iteration 1 | threads 1\n",
      "rm: cannot remove '*.torrent': No such file or directory\n",
      "\n",
      "real\t0m28.100s\n",
      "user\t0m24.199s\n",
      "sys\t0m3.405s\n",
      "\n",
      "-- iteration 2 | threads 1\n",
      "\n",
      "real\t0m27.531s\n",
      "user\t0m23.952s\n",
      "sys\t0m3.169s\n",
      "\n",
      "-- iteration 3 | threads 1\n",
      "\n",
      "real\t0m28.172s\n",
      "user\t0m23.977s\n",
      "sys\t0m3.270s\n",
      "\n"
     ]
    }
   ],
   "source": [
    "py3createtorrent_data = run_benchmark(\"py3createtorrent\", use_threads=False)"
   ]
  },
  {
   "cell_type": "code",
   "execution_count": 19,
   "metadata": {},
   "outputs": [
    {
     "output_type": "stream",
     "name": "stdout",
     "text": [
      "-- iteration 1 | threads 1\n",
      "\n",
      "real\t0m25.609s\n",
      "user\t0m23.964s\n",
      "sys\t0m9.948s\n",
      "\n",
      "-- iteration 2 | threads 1\n",
      "\n",
      "real\t0m24.994s\n",
      "user\t0m23.313s\n",
      "sys\t0m9.235s\n",
      "\n",
      "-- iteration 3 | threads 1\n",
      "\n",
      "real\t0m25.388s\n",
      "user\t0m23.761s\n",
      "sys\t0m9.512s\n",
      "\n",
      "-- iteration 1 | threads 2\n",
      "\n",
      "real\t0m13.950s\n",
      "user\t0m24.642s\n",
      "sys\t0m10.750s\n",
      "\n",
      "-- iteration 2 | threads 2\n",
      "\n",
      "real\t0m14.088s\n",
      "user\t0m24.869s\n",
      "sys\t0m11.001s\n",
      "\n",
      "-- iteration 3 | threads 2\n",
      "\n",
      "real\t0m14.410s\n",
      "user\t0m25.176s\n",
      "sys\t0m11.003s\n",
      "\n",
      "-- iteration 1 | threads 3\n",
      "\n",
      "real\t0m10.548s\n",
      "user\t0m25.179s\n",
      "sys\t0m10.208s\n",
      "\n",
      "-- iteration 2 | threads 3\n",
      "\n",
      "real\t0m10.801s\n",
      "user\t0m24.889s\n",
      "sys\t0m10.453s\n",
      "\n",
      "-- iteration 3 | threads 3\n",
      "\n",
      "real\t0m10.447s\n",
      "user\t0m24.213s\n",
      "sys\t0m10.145s\n",
      "\n",
      "-- iteration 1 | threads 4\n",
      "\n",
      "real\t0m10.540s\n",
      "user\t0m27.706s\n",
      "sys\t0m10.462s\n",
      "\n",
      "-- iteration 2 | threads 4\n",
      "\n",
      "real\t0m10.492s\n",
      "user\t0m28.131s\n",
      "sys\t0m10.342s\n",
      "\n",
      "-- iteration 3 | threads 4\n",
      "\n",
      "real\t0m10.702s\n",
      "user\t0m25.584s\n",
      "sys\t0m10.397s\n",
      "\n"
     ]
    }
   ],
   "source": [
    "torf_data = run_benchmark(\"torf-cli\")"
   ]
  },
  {
   "cell_type": "code",
   "execution_count": 20,
   "metadata": {},
   "outputs": [
    {
     "output_type": "stream",
     "name": "stdout",
     "text": [
      "-- iteration 1 | threads 1\n",
      "\n",
      "real\t0m46.673s\n",
      "user\t0m41.712s\n",
      "sys\t0m4.031s\n",
      "\n",
      "-- iteration 2 | threads 1\n",
      "rm: cannot remove '*.torrent': No such file or directory\n",
      "\n",
      "real\t0m45.859s\n",
      "user\t0m41.532s\n",
      "sys\t0m3.884s\n",
      "\n",
      "-- iteration 3 | threads 1\n",
      "rm: cannot remove '*.torrent': No such file or directory\n",
      "\n",
      "real\t0m45.836s\n",
      "user\t0m41.261s\n",
      "sys\t0m3.952s\n",
      "\n"
     ]
    }
   ],
   "source": [
    "buildtorrent_data = run_benchmark(\"buildtorrent\", use_threads=False)"
   ]
  },
  {
   "source": [
    "maketorrent_data = run_benchmark(\"maketorrent\")"
   ],
   "cell_type": "code",
   "metadata": {},
   "execution_count": null,
   "outputs": []
  },
  {
   "source": [
    "benchmark_data = {\n",
    "    \"mktorrent\": mktorrent_data, \n",
    "    \"imdl\": imdl_data,\n",
    "    \"dottorrent-cli\": dottorrent_cli_data,\n",
    "    \"pyrocore\": pyrocore_data,\n",
    "    \"transmission-create\": transmission_create_data,\n",
    "    \"py3createtorrent\" : py3createtorrent_data,\n",
    "    \"torf-cli\": torf_data,\n",
    "    \"buildtorrent\": buildtorrent_data,\n",
    "    # \"maketorrent\" : maketorrent_data,\n",
    "    \"torrenttools (OpenSSL)\": torrenttools_openssl_data,\n",
    "    \"torrenttools (ISA-L)\": torrenttools_isal_data,\n",
    "}"
   ],
   "cell_type": "code",
   "metadata": {},
   "execution_count": null,
   "outputs": []
  },
  {
   "source": [
    "programs = list(benchmark_data.keys())\n",
    "threads = list(range(1, max_threads+1))\n",
    "index = pd.MultiIndex.from_product((threads, programs), names=[\"threads\", \"programs\"])\n",
    "\n",
    "speed_mean_data = {}\n",
    "speed_stddev_data = {}\n",
    "for program, data in benchmark_data.items():\n",
    "    speed_mean_data[program] = data[0]\n",
    "    speed_stddev_data[program] = data[1]\n",
    "    \n",
    "\n",
    "speed_mean = pd.DataFrame(speed_mean_data).stack()\n",
    "speed_stddev = pd.DataFrame(speed_stddev_data).stack()"
   ],
   "cell_type": "code",
   "metadata": {},
   "execution_count": null,
   "outputs": []
  },
  {
   "source": [
    "df = pd.DataFrame()\n",
    "df[\"speed_mean\"], df[\"speed_stddev\"] = speed_mean / 1e6, speed_stddev / 1e6\n",
    "df.index = index"
   ],
   "cell_type": "code",
   "metadata": {},
   "execution_count": null,
   "outputs": []
  },
  {
   "cell_type": "code",
   "execution_count": 181,
   "metadata": {},
   "outputs": [],
   "source": [
    "# df.to_csv(\"benchmark.csv\")"
   ]
  },
  {
   "cell_type": "code",
   "execution_count": 34,
   "metadata": {},
   "outputs": [],
   "source": [
    "df = pd.read_csv(\"benchmark.csv\")\n",
    "df.set_index([\"threads\",\"programs\"], inplace=True)"
   ]
  },
  {
   "cell_type": "code",
   "execution_count": 35,
   "metadata": {},
   "outputs": [
    {
     "output_type": "execute_result",
     "data": {
      "text/plain": [
       "                                 speed_mean  speed_stddev\n",
       "threads programs                                         \n",
       "1       mktorrent                843.537581     29.240162\n",
       "        imdl                     422.595602     21.945212\n",
       "        dottorrent-cli           465.436936      5.708141\n",
       "        pyrocore                 694.654299     28.286594\n",
       "        transmission-create      694.712205     38.430640\n",
       "        py3createtorrent         768.842932      7.946208\n",
       "        torf-cli                 847.877094      8.542898\n",
       "        buildtorrent             465.635634      3.906536\n",
       "        torrenttools (OpenSSL)   857.746867      0.016150\n",
       "        torrenttools (ISA-L)    2394.788777     25.555998\n",
       "2       mktorrent               1739.745717      0.816567\n",
       "        imdl                     422.595602     21.945212\n",
       "        dottorrent-cli           465.436936      5.708141\n",
       "        pyrocore                 694.654299     28.286594\n",
       "        transmission-create      694.712205     38.430640\n",
       "        py3createtorrent         768.842932      7.946208\n",
       "        torf-cli                1518.007778     20.554861\n",
       "        buildtorrent             465.635634      3.906536\n",
       "        torrenttools (OpenSSL)  1647.812096      0.059603\n",
       "        torrenttools (ISA-L)    4267.054895    138.342107\n",
       "3       mktorrent               2401.102928    231.781078\n",
       "        imdl                     422.595602     21.945212\n",
       "        dottorrent-cli           465.436936      5.708141\n",
       "        pyrocore                 694.654299     28.286594\n",
       "        transmission-create      694.712205     38.430640\n",
       "        py3createtorrent         768.842932      7.946208\n",
       "        torf-cli                2026.580190     28.285421\n",
       "        buildtorrent             465.635634      3.906536\n",
       "        torrenttools (OpenSSL)  2448.522212     27.990339\n",
       "        torrenttools (ISA-L)    4255.814143      1.192516\n",
       "4       mktorrent               3149.445056    125.745769\n",
       "        imdl                     422.595602     21.945212\n",
       "        dottorrent-cli           465.436936      5.708141\n",
       "        pyrocore                 694.654299     28.286594\n",
       "        transmission-create      694.712205     38.430640\n",
       "        py3createtorrent         768.842932      7.946208\n",
       "        torf-cli                2030.287245     17.163154\n",
       "        buildtorrent             465.635634      3.906536\n",
       "        torrenttools (OpenSSL)  3269.533110     49.678067\n",
       "        torrenttools (ISA-L)    4258.630736      3.983737"
      ],
      "text/html": "<div>\n<style scoped>\n    .dataframe tbody tr th:only-of-type {\n        vertical-align: middle;\n    }\n\n    .dataframe tbody tr th {\n        vertical-align: top;\n    }\n\n    .dataframe thead th {\n        text-align: right;\n    }\n</style>\n<table border=\"1\" class=\"dataframe\">\n  <thead>\n    <tr style=\"text-align: right;\">\n      <th></th>\n      <th></th>\n      <th>speed_mean</th>\n      <th>speed_stddev</th>\n    </tr>\n    <tr>\n      <th>threads</th>\n      <th>programs</th>\n      <th></th>\n      <th></th>\n    </tr>\n  </thead>\n  <tbody>\n    <tr>\n      <th rowspan=\"10\" valign=\"top\">1</th>\n      <th>mktorrent</th>\n      <td>843.537581</td>\n      <td>29.240162</td>\n    </tr>\n    <tr>\n      <th>imdl</th>\n      <td>422.595602</td>\n      <td>21.945212</td>\n    </tr>\n    <tr>\n      <th>dottorrent-cli</th>\n      <td>465.436936</td>\n      <td>5.708141</td>\n    </tr>\n    <tr>\n      <th>pyrocore</th>\n      <td>694.654299</td>\n      <td>28.286594</td>\n    </tr>\n    <tr>\n      <th>transmission-create</th>\n      <td>694.712205</td>\n      <td>38.430640</td>\n    </tr>\n    <tr>\n      <th>py3createtorrent</th>\n      <td>768.842932</td>\n      <td>7.946208</td>\n    </tr>\n    <tr>\n      <th>torf-cli</th>\n      <td>847.877094</td>\n      <td>8.542898</td>\n    </tr>\n    <tr>\n      <th>buildtorrent</th>\n      <td>465.635634</td>\n      <td>3.906536</td>\n    </tr>\n    <tr>\n      <th>torrenttools (OpenSSL)</th>\n      <td>857.746867</td>\n      <td>0.016150</td>\n    </tr>\n    <tr>\n      <th>torrenttools (ISA-L)</th>\n      <td>2394.788777</td>\n      <td>25.555998</td>\n    </tr>\n    <tr>\n      <th rowspan=\"10\" valign=\"top\">2</th>\n      <th>mktorrent</th>\n      <td>1739.745717</td>\n      <td>0.816567</td>\n    </tr>\n    <tr>\n      <th>imdl</th>\n      <td>422.595602</td>\n      <td>21.945212</td>\n    </tr>\n    <tr>\n      <th>dottorrent-cli</th>\n      <td>465.436936</td>\n      <td>5.708141</td>\n    </tr>\n    <tr>\n      <th>pyrocore</th>\n      <td>694.654299</td>\n      <td>28.286594</td>\n    </tr>\n    <tr>\n      <th>transmission-create</th>\n      <td>694.712205</td>\n      <td>38.430640</td>\n    </tr>\n    <tr>\n      <th>py3createtorrent</th>\n      <td>768.842932</td>\n      <td>7.946208</td>\n    </tr>\n    <tr>\n      <th>torf-cli</th>\n      <td>1518.007778</td>\n      <td>20.554861</td>\n    </tr>\n    <tr>\n      <th>buildtorrent</th>\n      <td>465.635634</td>\n      <td>3.906536</td>\n    </tr>\n    <tr>\n      <th>torrenttools (OpenSSL)</th>\n      <td>1647.812096</td>\n      <td>0.059603</td>\n    </tr>\n    <tr>\n      <th>torrenttools (ISA-L)</th>\n      <td>4267.054895</td>\n      <td>138.342107</td>\n    </tr>\n    <tr>\n      <th rowspan=\"10\" valign=\"top\">3</th>\n      <th>mktorrent</th>\n      <td>2401.102928</td>\n      <td>231.781078</td>\n    </tr>\n    <tr>\n      <th>imdl</th>\n      <td>422.595602</td>\n      <td>21.945212</td>\n    </tr>\n    <tr>\n      <th>dottorrent-cli</th>\n      <td>465.436936</td>\n      <td>5.708141</td>\n    </tr>\n    <tr>\n      <th>pyrocore</th>\n      <td>694.654299</td>\n      <td>28.286594</td>\n    </tr>\n    <tr>\n      <th>transmission-create</th>\n      <td>694.712205</td>\n      <td>38.430640</td>\n    </tr>\n    <tr>\n      <th>py3createtorrent</th>\n      <td>768.842932</td>\n      <td>7.946208</td>\n    </tr>\n    <tr>\n      <th>torf-cli</th>\n      <td>2026.580190</td>\n      <td>28.285421</td>\n    </tr>\n    <tr>\n      <th>buildtorrent</th>\n      <td>465.635634</td>\n      <td>3.906536</td>\n    </tr>\n    <tr>\n      <th>torrenttools (OpenSSL)</th>\n      <td>2448.522212</td>\n      <td>27.990339</td>\n    </tr>\n    <tr>\n      <th>torrenttools (ISA-L)</th>\n      <td>4255.814143</td>\n      <td>1.192516</td>\n    </tr>\n    <tr>\n      <th rowspan=\"10\" valign=\"top\">4</th>\n      <th>mktorrent</th>\n      <td>3149.445056</td>\n      <td>125.745769</td>\n    </tr>\n    <tr>\n      <th>imdl</th>\n      <td>422.595602</td>\n      <td>21.945212</td>\n    </tr>\n    <tr>\n      <th>dottorrent-cli</th>\n      <td>465.436936</td>\n      <td>5.708141</td>\n    </tr>\n    <tr>\n      <th>pyrocore</th>\n      <td>694.654299</td>\n      <td>28.286594</td>\n    </tr>\n    <tr>\n      <th>transmission-create</th>\n      <td>694.712205</td>\n      <td>38.430640</td>\n    </tr>\n    <tr>\n      <th>py3createtorrent</th>\n      <td>768.842932</td>\n      <td>7.946208</td>\n    </tr>\n    <tr>\n      <th>torf-cli</th>\n      <td>2030.287245</td>\n      <td>17.163154</td>\n    </tr>\n    <tr>\n      <th>buildtorrent</th>\n      <td>465.635634</td>\n      <td>3.906536</td>\n    </tr>\n    <tr>\n      <th>torrenttools (OpenSSL)</th>\n      <td>3269.533110</td>\n      <td>49.678067</td>\n    </tr>\n    <tr>\n      <th>torrenttools (ISA-L)</th>\n      <td>4258.630736</td>\n      <td>3.983737</td>\n    </tr>\n  </tbody>\n</table>\n</div>"
     },
     "metadata": {},
     "execution_count": 35
    }
   ],
   "source": [
    "df"
   ]
  },
  {
   "cell_type": "code",
   "execution_count": 38,
   "metadata": {},
   "outputs": [
    {
     "output_type": "display_data",
     "data": {
      "text/plain": "<Figure size 576x576 with 1 Axes>",
      "image/svg+xml": "<?xml version=\"1.0\" encoding=\"utf-8\" standalone=\"no\"?>\n<!DOCTYPE svg PUBLIC \"-//W3C//DTD SVG 1.1//EN\"\n  \"http://www.w3.org/Graphics/SVG/1.1/DTD/svg11.dtd\">\n<!-- Created with matplotlib (https://matplotlib.org/) -->\n<svg height=\"494.754375pt\" version=\"1.1\" viewBox=\"0 0 684.62625 494.754375\" width=\"684.62625pt\" xmlns=\"http://www.w3.org/2000/svg\" xmlns:xlink=\"http://www.w3.org/1999/xlink\">\n <metadata>\n  <rdf:RDF xmlns:cc=\"http://creativecommons.org/ns#\" xmlns:dc=\"http://purl.org/dc/elements/1.1/\" xmlns:rdf=\"http://www.w3.org/1999/02/22-rdf-syntax-ns#\">\n   <cc:Work>\n    <dc:type rdf:resource=\"http://purl.org/dc/dcmitype/StillImage\"/>\n    <dc:date>2021-04-20T14:17:37.448712</dc:date>\n    <dc:format>image/svg+xml</dc:format>\n    <dc:creator>\n     <cc:Agent>\n      <dc:title>Matplotlib v3.3.4, https://matplotlib.org/</dc:title>\n     </cc:Agent>\n    </dc:creator>\n   </cc:Work>\n  </rdf:RDF>\n </metadata>\n <defs>\n  <style type=\"text/css\">*{stroke-linecap:butt;stroke-linejoin:round;}</style>\n </defs>\n <g id=\"figure_1\">\n  <g id=\"patch_1\">\n   <path d=\"M 0 494.754375 \nL 684.62625 494.754375 \nL 684.62625 0 \nL 0 0 \nz\n\" style=\"fill:#ffffff;\"/>\n  </g>\n  <g id=\"axes_1\">\n   <g id=\"patch_2\">\n    <path d=\"M 53.328125 457.198125 \nL 499.728125 457.198125 \nL 499.728125 22.318125 \nL 53.328125 22.318125 \nz\n\" style=\"fill:#ffffff;\"/>\n   </g>\n   <g id=\"PolyCollection_1\">\n    <path clip-path=\"url(#p4d0c9becf6)\" d=\"M 73.619034 238.048202 \nL 73.619034 243.093938 \nL 208.891761 69.399447 \nL 344.164489 56.969825 \nL 479.437216 56.96732 \nL 479.437216 56.180777 \nL 479.437216 56.180777 \nL 344.164489 56.734376 \nL 208.891761 42.085398 \nL 73.619034 238.048202 \nz\n\" style=\"fill:#1f77b4;fill-opacity:0.1;\"/>\n   </g>\n   <g id=\"PolyCollection_2\">\n    <path clip-path=\"url(#p4d0c9becf6)\" d=\"M 73.619034 392.305051 \nL 73.619034 392.30824 \nL 208.891761 314.317908 \nL 344.164489 238.029731 \nL 479.437216 159.121173 \nL 479.437216 149.312813 \nL 479.437216 149.312813 \nL 344.164489 232.503363 \nL 208.891761 314.30614 \nL 73.619034 392.305051 \nz\n\" style=\"fill:#ff7f0e;fill-opacity:0.1;\"/>\n   </g>\n   <g id=\"PolyCollection_3\">\n    <path clip-path=\"url(#p4d0c9becf6)\" d=\"M 73.619034 390.822809 \nL 73.619034 396.595941 \nL 208.891761 305.317019 \nL 344.164489 262.828988 \nL 479.437216 178.485516 \nL 479.437216 153.658468 \nL 479.437216 153.658468 \nL 344.164489 217.066495 \nL 208.891761 305.155798 \nL 73.619034 390.822809 \nz\n\" style=\"fill:#2ca02c;fill-opacity:0.1;\"/>\n   </g>\n   <g id=\"PolyCollection_4\">\n    <path clip-path=\"url(#p4d0c9becf6)\" d=\"M 73.619034 392.437633 \nL 73.619034 394.12433 \nL 208.891761 329.155364 \nL 344.164489 279.712648 \nL 479.437216 278.248709 \nL 479.437216 274.860043 \nL 479.437216 274.860043 \nL 344.164489 274.128019 \nL 208.891761 325.097045 \nL 73.619034 392.437633 \nz\n\" style=\"fill:#d62728;fill-opacity:0.1;\"/>\n   </g>\n   <g id=\"PolyCollection_5\">\n    <path clip-path=\"url(#p4d0c9becf6)\" d=\"M 73.619034 400.298729 \nL 73.619034 401.867616 \nL 208.891761 401.867616 \nL 344.164489 401.867616 \nL 479.437216 401.867616 \nL 479.437216 400.298729 \nL 479.437216 400.298729 \nL 344.164489 400.298729 \nL 208.891761 400.298729 \nL 73.619034 400.298729 \nz\n\" style=\"fill:#9467bd;fill-opacity:0.1;\"/>\n   </g>\n   <g id=\"PolyCollection_6\">\n    <path clip-path=\"url(#p4d0c9becf6)\" d=\"M 73.619034 404.607457 \nL 73.619034 412.195142 \nL 208.891761 412.195142 \nL 344.164489 412.195142 \nL 479.437216 412.195142 \nL 479.437216 404.607457 \nL 479.437216 404.607457 \nL 344.164489 404.607457 \nL 208.891761 404.607457 \nL 73.619034 404.607457 \nz\n\" style=\"fill:#8c564b;fill-opacity:0.1;\"/>\n   </g>\n   <g id=\"PolyCollection_7\">\n    <path clip-path=\"url(#p4d0c9becf6)\" d=\"M 73.619034 405.614586 \nL 73.619034 411.199447 \nL 208.891761 411.199447 \nL 344.164489 411.199447 \nL 479.437216 411.199447 \nL 479.437216 405.614586 \nL 479.437216 405.614586 \nL 344.164489 405.614586 \nL 208.891761 405.614586 \nL 73.619034 405.614586 \nz\n\" style=\"fill:#e377c2;fill-opacity:0.1;\"/>\n   </g>\n   <g id=\"PolyCollection_8\">\n    <path clip-path=\"url(#p4d0c9becf6)\" d=\"M 73.619034 430.62991 \nL 73.619034 431.40121 \nL 208.891761 431.40121 \nL 344.164489 431.40121 \nL 479.437216 431.40121 \nL 479.437216 430.62991 \nL 479.437216 430.62991 \nL 344.164489 430.62991 \nL 208.891761 430.62991 \nL 73.619034 430.62991 \nz\n\" style=\"fill:#7f7f7f;fill-opacity:0.1;\"/>\n   </g>\n   <g id=\"PolyCollection_9\">\n    <path clip-path=\"url(#p4d0c9becf6)\" d=\"M 73.619034 430.471672 \nL 73.619034 431.598678 \nL 208.891761 431.598678 \nL 344.164489 431.598678 \nL 479.437216 431.598678 \nL 479.437216 430.471672 \nL 479.437216 430.471672 \nL 344.164489 430.471672 \nL 208.891761 430.471672 \nL 73.619034 430.471672 \nz\n\" style=\"fill:#bcbd22;fill-opacity:0.1;\"/>\n   </g>\n   <g id=\"PolyCollection_10\">\n    <path clip-path=\"url(#p4d0c9becf6)\" d=\"M 73.619034 433.098024 \nL 73.619034 437.430852 \nL 208.891761 437.430852 \nL 344.164489 437.430852 \nL 479.437216 437.430852 \nL 479.437216 433.098024 \nL 479.437216 433.098024 \nL 344.164489 433.098024 \nL 208.891761 433.098024 \nL 73.619034 433.098024 \nz\n\" style=\"fill:#17becf;fill-opacity:0.1;\"/>\n   </g>\n   <g id=\"matplotlib.axis_1\">\n    <g id=\"xtick_1\">\n     <g id=\"line2d_1\">\n      <defs>\n       <path d=\"M 0 0 \nL 0 3.5 \n\" id=\"m0d8df1839a\" style=\"stroke:#000000;stroke-width:0.8;\"/>\n      </defs>\n      <g>\n       <use style=\"stroke:#000000;stroke-width:0.8;\" x=\"73.619034\" xlink:href=\"#m0d8df1839a\" y=\"457.198125\"/>\n      </g>\n     </g>\n     <g id=\"text_1\">\n      <!-- 1 -->\n      <g transform=\"translate(70.437784 471.796562)scale(0.1 -0.1)\">\n       <defs>\n        <path d=\"M 12.40625 8.296875 \nL 28.515625 8.296875 \nL 28.515625 63.921875 \nL 10.984375 60.40625 \nL 10.984375 69.390625 \nL 28.421875 72.90625 \nL 38.28125 72.90625 \nL 38.28125 8.296875 \nL 54.390625 8.296875 \nL 54.390625 0 \nL 12.40625 0 \nz\n\" id=\"DejaVuSans-49\"/>\n       </defs>\n       <use xlink:href=\"#DejaVuSans-49\"/>\n      </g>\n     </g>\n    </g>\n    <g id=\"xtick_2\">\n     <g id=\"line2d_2\">\n      <g>\n       <use style=\"stroke:#000000;stroke-width:0.8;\" x=\"208.891761\" xlink:href=\"#m0d8df1839a\" y=\"457.198125\"/>\n      </g>\n     </g>\n     <g id=\"text_2\">\n      <!-- 2 -->\n      <g transform=\"translate(205.710511 471.796562)scale(0.1 -0.1)\">\n       <defs>\n        <path d=\"M 19.1875 8.296875 \nL 53.609375 8.296875 \nL 53.609375 0 \nL 7.328125 0 \nL 7.328125 8.296875 \nQ 12.9375 14.109375 22.625 23.890625 \nQ 32.328125 33.6875 34.8125 36.53125 \nQ 39.546875 41.84375 41.421875 45.53125 \nQ 43.3125 49.21875 43.3125 52.78125 \nQ 43.3125 58.59375 39.234375 62.25 \nQ 35.15625 65.921875 28.609375 65.921875 \nQ 23.96875 65.921875 18.8125 64.3125 \nQ 13.671875 62.703125 7.8125 59.421875 \nL 7.8125 69.390625 \nQ 13.765625 71.78125 18.9375 73 \nQ 24.125 74.21875 28.421875 74.21875 \nQ 39.75 74.21875 46.484375 68.546875 \nQ 53.21875 62.890625 53.21875 53.421875 \nQ 53.21875 48.921875 51.53125 44.890625 \nQ 49.859375 40.875 45.40625 35.40625 \nQ 44.1875 33.984375 37.640625 27.21875 \nQ 31.109375 20.453125 19.1875 8.296875 \nz\n\" id=\"DejaVuSans-50\"/>\n       </defs>\n       <use xlink:href=\"#DejaVuSans-50\"/>\n      </g>\n     </g>\n    </g>\n    <g id=\"xtick_3\">\n     <g id=\"line2d_3\">\n      <g>\n       <use style=\"stroke:#000000;stroke-width:0.8;\" x=\"344.164489\" xlink:href=\"#m0d8df1839a\" y=\"457.198125\"/>\n      </g>\n     </g>\n     <g id=\"text_3\">\n      <!-- 3 -->\n      <g transform=\"translate(340.983239 471.796562)scale(0.1 -0.1)\">\n       <defs>\n        <path d=\"M 40.578125 39.3125 \nQ 47.65625 37.796875 51.625 33 \nQ 55.609375 28.21875 55.609375 21.1875 \nQ 55.609375 10.40625 48.1875 4.484375 \nQ 40.765625 -1.421875 27.09375 -1.421875 \nQ 22.515625 -1.421875 17.65625 -0.515625 \nQ 12.796875 0.390625 7.625 2.203125 \nL 7.625 11.71875 \nQ 11.71875 9.328125 16.59375 8.109375 \nQ 21.484375 6.890625 26.8125 6.890625 \nQ 36.078125 6.890625 40.9375 10.546875 \nQ 45.796875 14.203125 45.796875 21.1875 \nQ 45.796875 27.640625 41.28125 31.265625 \nQ 36.765625 34.90625 28.71875 34.90625 \nL 20.21875 34.90625 \nL 20.21875 43.015625 \nL 29.109375 43.015625 \nQ 36.375 43.015625 40.234375 45.921875 \nQ 44.09375 48.828125 44.09375 54.296875 \nQ 44.09375 59.90625 40.109375 62.90625 \nQ 36.140625 65.921875 28.71875 65.921875 \nQ 24.65625 65.921875 20.015625 65.03125 \nQ 15.375 64.15625 9.8125 62.3125 \nL 9.8125 71.09375 \nQ 15.4375 72.65625 20.34375 73.4375 \nQ 25.25 74.21875 29.59375 74.21875 \nQ 40.828125 74.21875 47.359375 69.109375 \nQ 53.90625 64.015625 53.90625 55.328125 \nQ 53.90625 49.265625 50.4375 45.09375 \nQ 46.96875 40.921875 40.578125 39.3125 \nz\n\" id=\"DejaVuSans-51\"/>\n       </defs>\n       <use xlink:href=\"#DejaVuSans-51\"/>\n      </g>\n     </g>\n    </g>\n    <g id=\"xtick_4\">\n     <g id=\"line2d_4\">\n      <g>\n       <use style=\"stroke:#000000;stroke-width:0.8;\" x=\"479.437216\" xlink:href=\"#m0d8df1839a\" y=\"457.198125\"/>\n      </g>\n     </g>\n     <g id=\"text_4\">\n      <!-- 4 -->\n      <g transform=\"translate(476.255966 471.796562)scale(0.1 -0.1)\">\n       <defs>\n        <path d=\"M 37.796875 64.3125 \nL 12.890625 25.390625 \nL 37.796875 25.390625 \nz\nM 35.203125 72.90625 \nL 47.609375 72.90625 \nL 47.609375 25.390625 \nL 58.015625 25.390625 \nL 58.015625 17.1875 \nL 47.609375 17.1875 \nL 47.609375 0 \nL 37.796875 0 \nL 37.796875 17.1875 \nL 4.890625 17.1875 \nL 4.890625 26.703125 \nz\n\" id=\"DejaVuSans-52\"/>\n       </defs>\n       <use xlink:href=\"#DejaVuSans-52\"/>\n      </g>\n     </g>\n    </g>\n    <g id=\"text_5\">\n     <!-- # hashing threads -->\n     <g transform=\"translate(230.430469 485.474687)scale(0.1 -0.1)\">\n      <defs>\n       <path d=\"M 51.125 44 \nL 36.921875 44 \nL 32.8125 27.6875 \nL 47.125 27.6875 \nz\nM 43.796875 71.78125 \nL 38.71875 51.515625 \nL 52.984375 51.515625 \nL 58.109375 71.78125 \nL 65.921875 71.78125 \nL 60.890625 51.515625 \nL 76.125 51.515625 \nL 76.125 44 \nL 58.984375 44 \nL 54.984375 27.6875 \nL 70.515625 27.6875 \nL 70.515625 20.21875 \nL 53.078125 20.21875 \nL 48 0 \nL 40.1875 0 \nL 45.21875 20.21875 \nL 30.90625 20.21875 \nL 25.875 0 \nL 18.015625 0 \nL 23.09375 20.21875 \nL 7.71875 20.21875 \nL 7.71875 27.6875 \nL 24.90625 27.6875 \nL 29 44 \nL 13.28125 44 \nL 13.28125 51.515625 \nL 30.90625 51.515625 \nL 35.890625 71.78125 \nz\n\" id=\"DejaVuSans-35\"/>\n       <path id=\"DejaVuSans-32\"/>\n       <path d=\"M 54.890625 33.015625 \nL 54.890625 0 \nL 45.90625 0 \nL 45.90625 32.71875 \nQ 45.90625 40.484375 42.875 44.328125 \nQ 39.84375 48.1875 33.796875 48.1875 \nQ 26.515625 48.1875 22.3125 43.546875 \nQ 18.109375 38.921875 18.109375 30.90625 \nL 18.109375 0 \nL 9.078125 0 \nL 9.078125 75.984375 \nL 18.109375 75.984375 \nL 18.109375 46.1875 \nQ 21.34375 51.125 25.703125 53.5625 \nQ 30.078125 56 35.796875 56 \nQ 45.21875 56 50.046875 50.171875 \nQ 54.890625 44.34375 54.890625 33.015625 \nz\n\" id=\"DejaVuSans-104\"/>\n       <path d=\"M 34.28125 27.484375 \nQ 23.390625 27.484375 19.1875 25 \nQ 14.984375 22.515625 14.984375 16.5 \nQ 14.984375 11.71875 18.140625 8.90625 \nQ 21.296875 6.109375 26.703125 6.109375 \nQ 34.1875 6.109375 38.703125 11.40625 \nQ 43.21875 16.703125 43.21875 25.484375 \nL 43.21875 27.484375 \nz\nM 52.203125 31.203125 \nL 52.203125 0 \nL 43.21875 0 \nL 43.21875 8.296875 \nQ 40.140625 3.328125 35.546875 0.953125 \nQ 30.953125 -1.421875 24.3125 -1.421875 \nQ 15.921875 -1.421875 10.953125 3.296875 \nQ 6 8.015625 6 15.921875 \nQ 6 25.140625 12.171875 29.828125 \nQ 18.359375 34.515625 30.609375 34.515625 \nL 43.21875 34.515625 \nL 43.21875 35.40625 \nQ 43.21875 41.609375 39.140625 45 \nQ 35.0625 48.390625 27.6875 48.390625 \nQ 23 48.390625 18.546875 47.265625 \nQ 14.109375 46.140625 10.015625 43.890625 \nL 10.015625 52.203125 \nQ 14.9375 54.109375 19.578125 55.046875 \nQ 24.21875 56 28.609375 56 \nQ 40.484375 56 46.34375 49.84375 \nQ 52.203125 43.703125 52.203125 31.203125 \nz\n\" id=\"DejaVuSans-97\"/>\n       <path d=\"M 44.28125 53.078125 \nL 44.28125 44.578125 \nQ 40.484375 46.53125 36.375 47.5 \nQ 32.28125 48.484375 27.875 48.484375 \nQ 21.1875 48.484375 17.84375 46.4375 \nQ 14.5 44.390625 14.5 40.28125 \nQ 14.5 37.15625 16.890625 35.375 \nQ 19.28125 33.59375 26.515625 31.984375 \nL 29.59375 31.296875 \nQ 39.15625 29.25 43.1875 25.515625 \nQ 47.21875 21.78125 47.21875 15.09375 \nQ 47.21875 7.46875 41.1875 3.015625 \nQ 35.15625 -1.421875 24.609375 -1.421875 \nQ 20.21875 -1.421875 15.453125 -0.5625 \nQ 10.6875 0.296875 5.421875 2 \nL 5.421875 11.28125 \nQ 10.40625 8.6875 15.234375 7.390625 \nQ 20.0625 6.109375 24.8125 6.109375 \nQ 31.15625 6.109375 34.5625 8.28125 \nQ 37.984375 10.453125 37.984375 14.40625 \nQ 37.984375 18.0625 35.515625 20.015625 \nQ 33.0625 21.96875 24.703125 23.78125 \nL 21.578125 24.515625 \nQ 13.234375 26.265625 9.515625 29.90625 \nQ 5.8125 33.546875 5.8125 39.890625 \nQ 5.8125 47.609375 11.28125 51.796875 \nQ 16.75 56 26.8125 56 \nQ 31.78125 56 36.171875 55.265625 \nQ 40.578125 54.546875 44.28125 53.078125 \nz\n\" id=\"DejaVuSans-115\"/>\n       <path d=\"M 9.421875 54.6875 \nL 18.40625 54.6875 \nL 18.40625 0 \nL 9.421875 0 \nz\nM 9.421875 75.984375 \nL 18.40625 75.984375 \nL 18.40625 64.59375 \nL 9.421875 64.59375 \nz\n\" id=\"DejaVuSans-105\"/>\n       <path d=\"M 54.890625 33.015625 \nL 54.890625 0 \nL 45.90625 0 \nL 45.90625 32.71875 \nQ 45.90625 40.484375 42.875 44.328125 \nQ 39.84375 48.1875 33.796875 48.1875 \nQ 26.515625 48.1875 22.3125 43.546875 \nQ 18.109375 38.921875 18.109375 30.90625 \nL 18.109375 0 \nL 9.078125 0 \nL 9.078125 54.6875 \nL 18.109375 54.6875 \nL 18.109375 46.1875 \nQ 21.34375 51.125 25.703125 53.5625 \nQ 30.078125 56 35.796875 56 \nQ 45.21875 56 50.046875 50.171875 \nQ 54.890625 44.34375 54.890625 33.015625 \nz\n\" id=\"DejaVuSans-110\"/>\n       <path d=\"M 45.40625 27.984375 \nQ 45.40625 37.75 41.375 43.109375 \nQ 37.359375 48.484375 30.078125 48.484375 \nQ 22.859375 48.484375 18.828125 43.109375 \nQ 14.796875 37.75 14.796875 27.984375 \nQ 14.796875 18.265625 18.828125 12.890625 \nQ 22.859375 7.515625 30.078125 7.515625 \nQ 37.359375 7.515625 41.375 12.890625 \nQ 45.40625 18.265625 45.40625 27.984375 \nz\nM 54.390625 6.78125 \nQ 54.390625 -7.171875 48.1875 -13.984375 \nQ 42 -20.796875 29.203125 -20.796875 \nQ 24.46875 -20.796875 20.265625 -20.09375 \nQ 16.0625 -19.390625 12.109375 -17.921875 \nL 12.109375 -9.1875 \nQ 16.0625 -11.328125 19.921875 -12.34375 \nQ 23.78125 -13.375 27.78125 -13.375 \nQ 36.625 -13.375 41.015625 -8.765625 \nQ 45.40625 -4.15625 45.40625 5.171875 \nL 45.40625 9.625 \nQ 42.625 4.78125 38.28125 2.390625 \nQ 33.9375 0 27.875 0 \nQ 17.828125 0 11.671875 7.65625 \nQ 5.515625 15.328125 5.515625 27.984375 \nQ 5.515625 40.671875 11.671875 48.328125 \nQ 17.828125 56 27.875 56 \nQ 33.9375 56 38.28125 53.609375 \nQ 42.625 51.21875 45.40625 46.390625 \nL 45.40625 54.6875 \nL 54.390625 54.6875 \nz\n\" id=\"DejaVuSans-103\"/>\n       <path d=\"M 18.3125 70.21875 \nL 18.3125 54.6875 \nL 36.8125 54.6875 \nL 36.8125 47.703125 \nL 18.3125 47.703125 \nL 18.3125 18.015625 \nQ 18.3125 11.328125 20.140625 9.421875 \nQ 21.96875 7.515625 27.59375 7.515625 \nL 36.8125 7.515625 \nL 36.8125 0 \nL 27.59375 0 \nQ 17.1875 0 13.234375 3.875 \nQ 9.28125 7.765625 9.28125 18.015625 \nL 9.28125 47.703125 \nL 2.6875 47.703125 \nL 2.6875 54.6875 \nL 9.28125 54.6875 \nL 9.28125 70.21875 \nz\n\" id=\"DejaVuSans-116\"/>\n       <path d=\"M 41.109375 46.296875 \nQ 39.59375 47.171875 37.8125 47.578125 \nQ 36.03125 48 33.890625 48 \nQ 26.265625 48 22.1875 43.046875 \nQ 18.109375 38.09375 18.109375 28.8125 \nL 18.109375 0 \nL 9.078125 0 \nL 9.078125 54.6875 \nL 18.109375 54.6875 \nL 18.109375 46.1875 \nQ 20.953125 51.171875 25.484375 53.578125 \nQ 30.03125 56 36.53125 56 \nQ 37.453125 56 38.578125 55.875 \nQ 39.703125 55.765625 41.0625 55.515625 \nz\n\" id=\"DejaVuSans-114\"/>\n       <path d=\"M 56.203125 29.59375 \nL 56.203125 25.203125 \nL 14.890625 25.203125 \nQ 15.484375 15.921875 20.484375 11.0625 \nQ 25.484375 6.203125 34.421875 6.203125 \nQ 39.59375 6.203125 44.453125 7.46875 \nQ 49.3125 8.734375 54.109375 11.28125 \nL 54.109375 2.78125 \nQ 49.265625 0.734375 44.1875 -0.34375 \nQ 39.109375 -1.421875 33.890625 -1.421875 \nQ 20.796875 -1.421875 13.15625 6.1875 \nQ 5.515625 13.8125 5.515625 26.8125 \nQ 5.515625 40.234375 12.765625 48.109375 \nQ 20.015625 56 32.328125 56 \nQ 43.359375 56 49.78125 48.890625 \nQ 56.203125 41.796875 56.203125 29.59375 \nz\nM 47.21875 32.234375 \nQ 47.125 39.59375 43.09375 43.984375 \nQ 39.0625 48.390625 32.421875 48.390625 \nQ 24.90625 48.390625 20.390625 44.140625 \nQ 15.875 39.890625 15.1875 32.171875 \nz\n\" id=\"DejaVuSans-101\"/>\n       <path d=\"M 45.40625 46.390625 \nL 45.40625 75.984375 \nL 54.390625 75.984375 \nL 54.390625 0 \nL 45.40625 0 \nL 45.40625 8.203125 \nQ 42.578125 3.328125 38.25 0.953125 \nQ 33.9375 -1.421875 27.875 -1.421875 \nQ 17.96875 -1.421875 11.734375 6.484375 \nQ 5.515625 14.40625 5.515625 27.296875 \nQ 5.515625 40.1875 11.734375 48.09375 \nQ 17.96875 56 27.875 56 \nQ 33.9375 56 38.25 53.625 \nQ 42.578125 51.265625 45.40625 46.390625 \nz\nM 14.796875 27.296875 \nQ 14.796875 17.390625 18.875 11.75 \nQ 22.953125 6.109375 30.078125 6.109375 \nQ 37.203125 6.109375 41.296875 11.75 \nQ 45.40625 17.390625 45.40625 27.296875 \nQ 45.40625 37.203125 41.296875 42.84375 \nQ 37.203125 48.484375 30.078125 48.484375 \nQ 22.953125 48.484375 18.875 42.84375 \nQ 14.796875 37.203125 14.796875 27.296875 \nz\n\" id=\"DejaVuSans-100\"/>\n      </defs>\n      <use xlink:href=\"#DejaVuSans-35\"/>\n      <use x=\"83.789062\" xlink:href=\"#DejaVuSans-32\"/>\n      <use x=\"115.576172\" xlink:href=\"#DejaVuSans-104\"/>\n      <use x=\"178.955078\" xlink:href=\"#DejaVuSans-97\"/>\n      <use x=\"240.234375\" xlink:href=\"#DejaVuSans-115\"/>\n      <use x=\"292.333984\" xlink:href=\"#DejaVuSans-104\"/>\n      <use x=\"355.712891\" xlink:href=\"#DejaVuSans-105\"/>\n      <use x=\"383.496094\" xlink:href=\"#DejaVuSans-110\"/>\n      <use x=\"446.875\" xlink:href=\"#DejaVuSans-103\"/>\n      <use x=\"510.351562\" xlink:href=\"#DejaVuSans-32\"/>\n      <use x=\"542.138672\" xlink:href=\"#DejaVuSans-116\"/>\n      <use x=\"581.347656\" xlink:href=\"#DejaVuSans-104\"/>\n      <use x=\"644.726562\" xlink:href=\"#DejaVuSans-114\"/>\n      <use x=\"683.589844\" xlink:href=\"#DejaVuSans-101\"/>\n      <use x=\"745.113281\" xlink:href=\"#DejaVuSans-97\"/>\n      <use x=\"806.392578\" xlink:href=\"#DejaVuSans-100\"/>\n      <use x=\"869.869141\" xlink:href=\"#DejaVuSans-115\"/>\n     </g>\n    </g>\n   </g>\n   <g id=\"matplotlib.axis_2\">\n    <g id=\"ytick_1\">\n     <g id=\"line2d_5\">\n      <defs>\n       <path d=\"M 0 0 \nL -3.5 0 \n\" id=\"m165b357ab2\" style=\"stroke:#000000;stroke-width:0.8;\"/>\n      </defs>\n      <g>\n       <use style=\"stroke:#000000;stroke-width:0.8;\" x=\"53.328125\" xlink:href=\"#m165b357ab2\" y=\"427.623136\"/>\n      </g>\n     </g>\n     <g id=\"text_6\">\n      <!-- 500 -->\n      <g transform=\"translate(27.240625 431.422355)scale(0.1 -0.1)\">\n       <defs>\n        <path d=\"M 10.796875 72.90625 \nL 49.515625 72.90625 \nL 49.515625 64.59375 \nL 19.828125 64.59375 \nL 19.828125 46.734375 \nQ 21.96875 47.46875 24.109375 47.828125 \nQ 26.265625 48.1875 28.421875 48.1875 \nQ 40.625 48.1875 47.75 41.5 \nQ 54.890625 34.8125 54.890625 23.390625 \nQ 54.890625 11.625 47.5625 5.09375 \nQ 40.234375 -1.421875 26.90625 -1.421875 \nQ 22.3125 -1.421875 17.546875 -0.640625 \nQ 12.796875 0.140625 7.71875 1.703125 \nL 7.71875 11.625 \nQ 12.109375 9.234375 16.796875 8.0625 \nQ 21.484375 6.890625 26.703125 6.890625 \nQ 35.15625 6.890625 40.078125 11.328125 \nQ 45.015625 15.765625 45.015625 23.390625 \nQ 45.015625 31 40.078125 35.4375 \nQ 35.15625 39.890625 26.703125 39.890625 \nQ 22.75 39.890625 18.8125 39.015625 \nQ 14.890625 38.140625 10.796875 36.28125 \nz\n\" id=\"DejaVuSans-53\"/>\n        <path d=\"M 31.78125 66.40625 \nQ 24.171875 66.40625 20.328125 58.90625 \nQ 16.5 51.421875 16.5 36.375 \nQ 16.5 21.390625 20.328125 13.890625 \nQ 24.171875 6.390625 31.78125 6.390625 \nQ 39.453125 6.390625 43.28125 13.890625 \nQ 47.125 21.390625 47.125 36.375 \nQ 47.125 51.421875 43.28125 58.90625 \nQ 39.453125 66.40625 31.78125 66.40625 \nz\nM 31.78125 74.21875 \nQ 44.046875 74.21875 50.515625 64.515625 \nQ 56.984375 54.828125 56.984375 36.375 \nQ 56.984375 17.96875 50.515625 8.265625 \nQ 44.046875 -1.421875 31.78125 -1.421875 \nQ 19.53125 -1.421875 13.0625 8.265625 \nQ 6.59375 17.96875 6.59375 36.375 \nQ 6.59375 54.828125 13.0625 64.515625 \nQ 19.53125 74.21875 31.78125 74.21875 \nz\n\" id=\"DejaVuSans-48\"/>\n       </defs>\n       <use xlink:href=\"#DejaVuSans-53\"/>\n       <use x=\"63.623047\" xlink:href=\"#DejaVuSans-48\"/>\n       <use x=\"127.246094\" xlink:href=\"#DejaVuSans-48\"/>\n      </g>\n     </g>\n    </g>\n    <g id=\"ytick_2\">\n     <g id=\"line2d_6\">\n      <g>\n       <use style=\"stroke:#000000;stroke-width:0.8;\" x=\"53.328125\" xlink:href=\"#m165b357ab2\" y=\"378.263527\"/>\n      </g>\n     </g>\n     <g id=\"text_7\">\n      <!-- 1000 -->\n      <g transform=\"translate(20.878125 382.062746)scale(0.1 -0.1)\">\n       <use xlink:href=\"#DejaVuSans-49\"/>\n       <use x=\"63.623047\" xlink:href=\"#DejaVuSans-48\"/>\n       <use x=\"127.246094\" xlink:href=\"#DejaVuSans-48\"/>\n       <use x=\"190.869141\" xlink:href=\"#DejaVuSans-48\"/>\n      </g>\n     </g>\n    </g>\n    <g id=\"ytick_3\">\n     <g id=\"line2d_7\">\n      <g>\n       <use style=\"stroke:#000000;stroke-width:0.8;\" x=\"53.328125\" xlink:href=\"#m165b357ab2\" y=\"328.903918\"/>\n      </g>\n     </g>\n     <g id=\"text_8\">\n      <!-- 1500 -->\n      <g transform=\"translate(20.878125 332.703137)scale(0.1 -0.1)\">\n       <use xlink:href=\"#DejaVuSans-49\"/>\n       <use x=\"63.623047\" xlink:href=\"#DejaVuSans-53\"/>\n       <use x=\"127.246094\" xlink:href=\"#DejaVuSans-48\"/>\n       <use x=\"190.869141\" xlink:href=\"#DejaVuSans-48\"/>\n      </g>\n     </g>\n    </g>\n    <g id=\"ytick_4\">\n     <g id=\"line2d_8\">\n      <g>\n       <use style=\"stroke:#000000;stroke-width:0.8;\" x=\"53.328125\" xlink:href=\"#m165b357ab2\" y=\"279.544309\"/>\n      </g>\n     </g>\n     <g id=\"text_9\">\n      <!-- 2000 -->\n      <g transform=\"translate(20.878125 283.343528)scale(0.1 -0.1)\">\n       <use xlink:href=\"#DejaVuSans-50\"/>\n       <use x=\"63.623047\" xlink:href=\"#DejaVuSans-48\"/>\n       <use x=\"127.246094\" xlink:href=\"#DejaVuSans-48\"/>\n       <use x=\"190.869141\" xlink:href=\"#DejaVuSans-48\"/>\n      </g>\n     </g>\n    </g>\n    <g id=\"ytick_5\">\n     <g id=\"line2d_9\">\n      <g>\n       <use style=\"stroke:#000000;stroke-width:0.8;\" x=\"53.328125\" xlink:href=\"#m165b357ab2\" y=\"230.1847\"/>\n      </g>\n     </g>\n     <g id=\"text_10\">\n      <!-- 2500 -->\n      <g transform=\"translate(20.878125 233.983919)scale(0.1 -0.1)\">\n       <use xlink:href=\"#DejaVuSans-50\"/>\n       <use x=\"63.623047\" xlink:href=\"#DejaVuSans-53\"/>\n       <use x=\"127.246094\" xlink:href=\"#DejaVuSans-48\"/>\n       <use x=\"190.869141\" xlink:href=\"#DejaVuSans-48\"/>\n      </g>\n     </g>\n    </g>\n    <g id=\"ytick_6\">\n     <g id=\"line2d_10\">\n      <g>\n       <use style=\"stroke:#000000;stroke-width:0.8;\" x=\"53.328125\" xlink:href=\"#m165b357ab2\" y=\"180.825091\"/>\n      </g>\n     </g>\n     <g id=\"text_11\">\n      <!-- 3000 -->\n      <g transform=\"translate(20.878125 184.62431)scale(0.1 -0.1)\">\n       <use xlink:href=\"#DejaVuSans-51\"/>\n       <use x=\"63.623047\" xlink:href=\"#DejaVuSans-48\"/>\n       <use x=\"127.246094\" xlink:href=\"#DejaVuSans-48\"/>\n       <use x=\"190.869141\" xlink:href=\"#DejaVuSans-48\"/>\n      </g>\n     </g>\n    </g>\n    <g id=\"ytick_7\">\n     <g id=\"line2d_11\">\n      <g>\n       <use style=\"stroke:#000000;stroke-width:0.8;\" x=\"53.328125\" xlink:href=\"#m165b357ab2\" y=\"131.465482\"/>\n      </g>\n     </g>\n     <g id=\"text_12\">\n      <!-- 3500 -->\n      <g transform=\"translate(20.878125 135.264701)scale(0.1 -0.1)\">\n       <use xlink:href=\"#DejaVuSans-51\"/>\n       <use x=\"63.623047\" xlink:href=\"#DejaVuSans-53\"/>\n       <use x=\"127.246094\" xlink:href=\"#DejaVuSans-48\"/>\n       <use x=\"190.869141\" xlink:href=\"#DejaVuSans-48\"/>\n      </g>\n     </g>\n    </g>\n    <g id=\"ytick_8\">\n     <g id=\"line2d_12\">\n      <g>\n       <use style=\"stroke:#000000;stroke-width:0.8;\" x=\"53.328125\" xlink:href=\"#m165b357ab2\" y=\"82.105873\"/>\n      </g>\n     </g>\n     <g id=\"text_13\">\n      <!-- 4000 -->\n      <g transform=\"translate(20.878125 85.905092)scale(0.1 -0.1)\">\n       <use xlink:href=\"#DejaVuSans-52\"/>\n       <use x=\"63.623047\" xlink:href=\"#DejaVuSans-48\"/>\n       <use x=\"127.246094\" xlink:href=\"#DejaVuSans-48\"/>\n       <use x=\"190.869141\" xlink:href=\"#DejaVuSans-48\"/>\n      </g>\n     </g>\n    </g>\n    <g id=\"ytick_9\">\n     <g id=\"line2d_13\">\n      <g>\n       <use style=\"stroke:#000000;stroke-width:0.8;\" x=\"53.328125\" xlink:href=\"#m165b357ab2\" y=\"32.746264\"/>\n      </g>\n     </g>\n     <g id=\"text_14\">\n      <!-- 4500 -->\n      <g transform=\"translate(20.878125 36.545482)scale(0.1 -0.1)\">\n       <use xlink:href=\"#DejaVuSans-52\"/>\n       <use x=\"63.623047\" xlink:href=\"#DejaVuSans-53\"/>\n       <use x=\"127.246094\" xlink:href=\"#DejaVuSans-48\"/>\n       <use x=\"190.869141\" xlink:href=\"#DejaVuSans-48\"/>\n      </g>\n     </g>\n    </g>\n    <g id=\"text_15\">\n     <!-- Hash rate (MiB/s) -->\n     <g transform=\"translate(14.798438 283.014375)rotate(-90)scale(0.1 -0.1)\">\n      <defs>\n       <path d=\"M 9.8125 72.90625 \nL 19.671875 72.90625 \nL 19.671875 43.015625 \nL 55.515625 43.015625 \nL 55.515625 72.90625 \nL 65.375 72.90625 \nL 65.375 0 \nL 55.515625 0 \nL 55.515625 34.71875 \nL 19.671875 34.71875 \nL 19.671875 0 \nL 9.8125 0 \nz\n\" id=\"DejaVuSans-72\"/>\n       <path d=\"M 31 75.875 \nQ 24.46875 64.65625 21.28125 53.65625 \nQ 18.109375 42.671875 18.109375 31.390625 \nQ 18.109375 20.125 21.3125 9.0625 \nQ 24.515625 -2 31 -13.1875 \nL 23.1875 -13.1875 \nQ 15.875 -1.703125 12.234375 9.375 \nQ 8.59375 20.453125 8.59375 31.390625 \nQ 8.59375 42.28125 12.203125 53.3125 \nQ 15.828125 64.359375 23.1875 75.875 \nz\n\" id=\"DejaVuSans-40\"/>\n       <path d=\"M 9.8125 72.90625 \nL 24.515625 72.90625 \nL 43.109375 23.296875 \nL 61.8125 72.90625 \nL 76.515625 72.90625 \nL 76.515625 0 \nL 66.890625 0 \nL 66.890625 64.015625 \nL 48.09375 14.015625 \nL 38.1875 14.015625 \nL 19.390625 64.015625 \nL 19.390625 0 \nL 9.8125 0 \nz\n\" id=\"DejaVuSans-77\"/>\n       <path d=\"M 19.671875 34.8125 \nL 19.671875 8.109375 \nL 35.5 8.109375 \nQ 43.453125 8.109375 47.28125 11.40625 \nQ 51.125 14.703125 51.125 21.484375 \nQ 51.125 28.328125 47.28125 31.5625 \nQ 43.453125 34.8125 35.5 34.8125 \nz\nM 19.671875 64.796875 \nL 19.671875 42.828125 \nL 34.28125 42.828125 \nQ 41.5 42.828125 45.03125 45.53125 \nQ 48.578125 48.25 48.578125 53.8125 \nQ 48.578125 59.328125 45.03125 62.0625 \nQ 41.5 64.796875 34.28125 64.796875 \nz\nM 9.8125 72.90625 \nL 35.015625 72.90625 \nQ 46.296875 72.90625 52.390625 68.21875 \nQ 58.5 63.53125 58.5 54.890625 \nQ 58.5 48.1875 55.375 44.234375 \nQ 52.25 40.28125 46.1875 39.3125 \nQ 53.46875 37.75 57.5 32.78125 \nQ 61.53125 27.828125 61.53125 20.40625 \nQ 61.53125 10.640625 54.890625 5.3125 \nQ 48.25 0 35.984375 0 \nL 9.8125 0 \nz\n\" id=\"DejaVuSans-66\"/>\n       <path d=\"M 25.390625 72.90625 \nL 33.6875 72.90625 \nL 8.296875 -9.28125 \nL 0 -9.28125 \nz\n\" id=\"DejaVuSans-47\"/>\n       <path d=\"M 8.015625 75.875 \nL 15.828125 75.875 \nQ 23.140625 64.359375 26.78125 53.3125 \nQ 30.421875 42.28125 30.421875 31.390625 \nQ 30.421875 20.453125 26.78125 9.375 \nQ 23.140625 -1.703125 15.828125 -13.1875 \nL 8.015625 -13.1875 \nQ 14.5 -2 17.703125 9.0625 \nQ 20.90625 20.125 20.90625 31.390625 \nQ 20.90625 42.671875 17.703125 53.65625 \nQ 14.5 64.65625 8.015625 75.875 \nz\n\" id=\"DejaVuSans-41\"/>\n      </defs>\n      <use xlink:href=\"#DejaVuSans-72\"/>\n      <use x=\"75.195312\" xlink:href=\"#DejaVuSans-97\"/>\n      <use x=\"136.474609\" xlink:href=\"#DejaVuSans-115\"/>\n      <use x=\"188.574219\" xlink:href=\"#DejaVuSans-104\"/>\n      <use x=\"251.953125\" xlink:href=\"#DejaVuSans-32\"/>\n      <use x=\"283.740234\" xlink:href=\"#DejaVuSans-114\"/>\n      <use x=\"324.853516\" xlink:href=\"#DejaVuSans-97\"/>\n      <use x=\"386.132812\" xlink:href=\"#DejaVuSans-116\"/>\n      <use x=\"425.341797\" xlink:href=\"#DejaVuSans-101\"/>\n      <use x=\"486.865234\" xlink:href=\"#DejaVuSans-32\"/>\n      <use x=\"518.652344\" xlink:href=\"#DejaVuSans-40\"/>\n      <use x=\"557.666016\" xlink:href=\"#DejaVuSans-77\"/>\n      <use x=\"643.945312\" xlink:href=\"#DejaVuSans-105\"/>\n      <use x=\"671.728516\" xlink:href=\"#DejaVuSans-66\"/>\n      <use x=\"740.332031\" xlink:href=\"#DejaVuSans-47\"/>\n      <use x=\"774.023438\" xlink:href=\"#DejaVuSans-115\"/>\n      <use x=\"826.123047\" xlink:href=\"#DejaVuSans-41\"/>\n     </g>\n    </g>\n   </g>\n   <g id=\"line2d_14\">\n    <path clip-path=\"url(#p4d0c9becf6)\" d=\"M 73.619034 240.57107 \nL 208.891761 55.742422 \nL 344.164489 56.852101 \nL 479.437216 56.574049 \n\" style=\"fill:none;stroke:#1f77b4;stroke-linecap:square;stroke-width:1.5;\"/>\n   </g>\n   <g id=\"line2d_15\">\n    <path clip-path=\"url(#p4d0c9becf6)\" d=\"M 73.619034 392.306645 \nL 208.891761 314.312024 \nL 344.164489 235.266547 \nL 479.437216 154.216993 \n\" style=\"fill:none;stroke:#ff7f0e;stroke-linecap:square;stroke-width:1.5;\"/>\n   </g>\n   <g id=\"line2d_16\">\n    <path clip-path=\"url(#p4d0c9becf6)\" d=\"M 73.619034 393.709375 \nL 208.891761 305.236409 \nL 344.164489 239.947742 \nL 479.437216 166.071992 \n\" style=\"fill:none;stroke:#2ca02c;stroke-linecap:square;stroke-width:1.5;\"/>\n   </g>\n   <g id=\"line2d_17\">\n    <path clip-path=\"url(#p4d0c9becf6)\" d=\"M 73.619034 393.280982 \nL 208.891761 327.126204 \nL 344.164489 276.920334 \nL 479.437216 276.554376 \n\" style=\"fill:none;stroke:#d62728;stroke-linecap:square;stroke-width:1.5;\"/>\n   </g>\n   <g id=\"line2d_18\">\n    <path clip-path=\"url(#p4d0c9becf6)\" d=\"M 73.619034 401.083172 \nL 208.891761 401.083172 \nL 344.164489 401.083172 \nL 479.437216 401.083172 \n\" style=\"fill:none;stroke:#9467bd;stroke-linecap:square;stroke-width:1.5;\"/>\n   </g>\n   <g id=\"line2d_19\">\n    <path clip-path=\"url(#p4d0c9becf6)\" d=\"M 73.619034 408.4013 \nL 208.891761 408.4013 \nL 344.164489 408.4013 \nL 479.437216 408.4013 \n\" style=\"fill:none;stroke:#8c564b;stroke-linecap:square;stroke-width:1.5;\"/>\n   </g>\n   <g id=\"line2d_20\">\n    <path clip-path=\"url(#p4d0c9becf6)\" d=\"M 73.619034 408.407016 \nL 208.891761 408.407016 \nL 344.164489 408.407016 \nL 479.437216 408.407016 \n\" style=\"fill:none;stroke:#e377c2;stroke-linecap:square;stroke-width:1.5;\"/>\n   </g>\n   <g id=\"line2d_21\">\n    <path clip-path=\"url(#p4d0c9becf6)\" d=\"M 73.619034 431.01556 \nL 208.891761 431.01556 \nL 344.164489 431.01556 \nL 479.437216 431.01556 \n\" style=\"fill:none;stroke:#7f7f7f;stroke-linecap:square;stroke-width:1.5;\"/>\n   </g>\n   <g id=\"line2d_22\">\n    <path clip-path=\"url(#p4d0c9becf6)\" d=\"M 73.619034 431.035175 \nL 208.891761 431.035175 \nL 344.164489 431.035175 \nL 479.437216 431.035175 \n\" style=\"fill:none;stroke:#bcbd22;stroke-linecap:square;stroke-width:1.5;\"/>\n   </g>\n   <g id=\"line2d_23\">\n    <path clip-path=\"url(#p4d0c9becf6)\" d=\"M 73.619034 435.264438 \nL 208.891761 435.264438 \nL 344.164489 435.264438 \nL 479.437216 435.264438 \n\" style=\"fill:none;stroke:#17becf;stroke-linecap:square;stroke-width:1.5;\"/>\n   </g>\n   <g id=\"patch_3\">\n    <path d=\"M 53.328125 457.198125 \nL 53.328125 22.318125 \n\" style=\"fill:none;stroke:#000000;stroke-linecap:square;stroke-linejoin:miter;stroke-width:0.8;\"/>\n   </g>\n   <g id=\"patch_4\">\n    <path d=\"M 499.728125 457.198125 \nL 499.728125 22.318125 \n\" style=\"fill:none;stroke:#000000;stroke-linecap:square;stroke-linejoin:miter;stroke-width:0.8;\"/>\n   </g>\n   <g id=\"patch_5\">\n    <path d=\"M 53.328125 457.198125 \nL 499.728125 457.198125 \n\" style=\"fill:none;stroke:#000000;stroke-linecap:square;stroke-linejoin:miter;stroke-width:0.8;\"/>\n   </g>\n   <g id=\"patch_6\">\n    <path d=\"M 53.328125 22.318125 \nL 499.728125 22.318125 \n\" style=\"fill:none;stroke:#000000;stroke-linecap:square;stroke-linejoin:miter;stroke-width:0.8;\"/>\n   </g>\n   <g id=\"text_16\">\n    <!-- Performance -->\n    <g transform=\"translate(238.509687 16.318125)scale(0.12 -0.12)\">\n     <defs>\n      <path d=\"M 19.671875 64.796875 \nL 19.671875 37.40625 \nL 32.078125 37.40625 \nQ 38.96875 37.40625 42.71875 40.96875 \nQ 46.484375 44.53125 46.484375 51.125 \nQ 46.484375 57.671875 42.71875 61.234375 \nQ 38.96875 64.796875 32.078125 64.796875 \nz\nM 9.8125 72.90625 \nL 32.078125 72.90625 \nQ 44.34375 72.90625 50.609375 67.359375 \nQ 56.890625 61.8125 56.890625 51.125 \nQ 56.890625 40.328125 50.609375 34.8125 \nQ 44.34375 29.296875 32.078125 29.296875 \nL 19.671875 29.296875 \nL 19.671875 0 \nL 9.8125 0 \nz\n\" id=\"DejaVuSans-80\"/>\n      <path d=\"M 37.109375 75.984375 \nL 37.109375 68.5 \nL 28.515625 68.5 \nQ 23.6875 68.5 21.796875 66.546875 \nQ 19.921875 64.59375 19.921875 59.515625 \nL 19.921875 54.6875 \nL 34.71875 54.6875 \nL 34.71875 47.703125 \nL 19.921875 47.703125 \nL 19.921875 0 \nL 10.890625 0 \nL 10.890625 47.703125 \nL 2.296875 47.703125 \nL 2.296875 54.6875 \nL 10.890625 54.6875 \nL 10.890625 58.5 \nQ 10.890625 67.625 15.140625 71.796875 \nQ 19.390625 75.984375 28.609375 75.984375 \nz\n\" id=\"DejaVuSans-102\"/>\n      <path d=\"M 30.609375 48.390625 \nQ 23.390625 48.390625 19.1875 42.75 \nQ 14.984375 37.109375 14.984375 27.296875 \nQ 14.984375 17.484375 19.15625 11.84375 \nQ 23.34375 6.203125 30.609375 6.203125 \nQ 37.796875 6.203125 41.984375 11.859375 \nQ 46.1875 17.53125 46.1875 27.296875 \nQ 46.1875 37.015625 41.984375 42.703125 \nQ 37.796875 48.390625 30.609375 48.390625 \nz\nM 30.609375 56 \nQ 42.328125 56 49.015625 48.375 \nQ 55.71875 40.765625 55.71875 27.296875 \nQ 55.71875 13.875 49.015625 6.21875 \nQ 42.328125 -1.421875 30.609375 -1.421875 \nQ 18.84375 -1.421875 12.171875 6.21875 \nQ 5.515625 13.875 5.515625 27.296875 \nQ 5.515625 40.765625 12.171875 48.375 \nQ 18.84375 56 30.609375 56 \nz\n\" id=\"DejaVuSans-111\"/>\n      <path d=\"M 52 44.1875 \nQ 55.375 50.25 60.0625 53.125 \nQ 64.75 56 71.09375 56 \nQ 79.640625 56 84.28125 50.015625 \nQ 88.921875 44.046875 88.921875 33.015625 \nL 88.921875 0 \nL 79.890625 0 \nL 79.890625 32.71875 \nQ 79.890625 40.578125 77.09375 44.375 \nQ 74.3125 48.1875 68.609375 48.1875 \nQ 61.625 48.1875 57.5625 43.546875 \nQ 53.515625 38.921875 53.515625 30.90625 \nL 53.515625 0 \nL 44.484375 0 \nL 44.484375 32.71875 \nQ 44.484375 40.625 41.703125 44.40625 \nQ 38.921875 48.1875 33.109375 48.1875 \nQ 26.21875 48.1875 22.15625 43.53125 \nQ 18.109375 38.875 18.109375 30.90625 \nL 18.109375 0 \nL 9.078125 0 \nL 9.078125 54.6875 \nL 18.109375 54.6875 \nL 18.109375 46.1875 \nQ 21.1875 51.21875 25.484375 53.609375 \nQ 29.78125 56 35.6875 56 \nQ 41.65625 56 45.828125 52.96875 \nQ 50 49.953125 52 44.1875 \nz\n\" id=\"DejaVuSans-109\"/>\n      <path d=\"M 48.78125 52.59375 \nL 48.78125 44.1875 \nQ 44.96875 46.296875 41.140625 47.34375 \nQ 37.3125 48.390625 33.40625 48.390625 \nQ 24.65625 48.390625 19.8125 42.84375 \nQ 14.984375 37.3125 14.984375 27.296875 \nQ 14.984375 17.28125 19.8125 11.734375 \nQ 24.65625 6.203125 33.40625 6.203125 \nQ 37.3125 6.203125 41.140625 7.25 \nQ 44.96875 8.296875 48.78125 10.40625 \nL 48.78125 2.09375 \nQ 45.015625 0.34375 40.984375 -0.53125 \nQ 36.96875 -1.421875 32.421875 -1.421875 \nQ 20.0625 -1.421875 12.78125 6.34375 \nQ 5.515625 14.109375 5.515625 27.296875 \nQ 5.515625 40.671875 12.859375 48.328125 \nQ 20.21875 56 33.015625 56 \nQ 37.15625 56 41.109375 55.140625 \nQ 45.0625 54.296875 48.78125 52.59375 \nz\n\" id=\"DejaVuSans-99\"/>\n     </defs>\n     <use xlink:href=\"#DejaVuSans-80\"/>\n     <use x=\"56.677734\" xlink:href=\"#DejaVuSans-101\"/>\n     <use x=\"118.201172\" xlink:href=\"#DejaVuSans-114\"/>\n     <use x=\"159.314453\" xlink:href=\"#DejaVuSans-102\"/>\n     <use x=\"194.519531\" xlink:href=\"#DejaVuSans-111\"/>\n     <use x=\"255.701172\" xlink:href=\"#DejaVuSans-114\"/>\n     <use x=\"295.064453\" xlink:href=\"#DejaVuSans-109\"/>\n     <use x=\"392.476562\" xlink:href=\"#DejaVuSans-97\"/>\n     <use x=\"453.755859\" xlink:href=\"#DejaVuSans-110\"/>\n     <use x=\"517.134766\" xlink:href=\"#DejaVuSans-99\"/>\n     <use x=\"572.115234\" xlink:href=\"#DejaVuSans-101\"/>\n    </g>\n   </g>\n   <g id=\"legend_1\">\n    <g id=\"patch_7\">\n     <path d=\"M 529.048125 177.099375 \nL 675.42625 177.099375 \nQ 677.42625 177.099375 677.42625 175.099375 \nL 677.42625 29.318125 \nQ 677.42625 27.318125 675.42625 27.318125 \nL 529.048125 27.318125 \nQ 527.048125 27.318125 527.048125 29.318125 \nL 527.048125 175.099375 \nQ 527.048125 177.099375 529.048125 177.099375 \nz\n\" style=\"fill:#ffffff;opacity:0.8;stroke:#cccccc;stroke-linejoin:miter;\"/>\n    </g>\n    <g id=\"line2d_24\">\n     <path d=\"M 531.048125 35.416562 \nL 551.048125 35.416562 \n\" style=\"fill:none;stroke:#1f77b4;stroke-linecap:square;stroke-width:1.5;\"/>\n    </g>\n    <g id=\"line2d_25\"/>\n    <g id=\"text_17\">\n     <!-- torrenttools (ISA-L) -->\n     <g transform=\"translate(559.048125 38.916562)scale(0.1 -0.1)\">\n      <defs>\n       <path d=\"M 9.421875 75.984375 \nL 18.40625 75.984375 \nL 18.40625 0 \nL 9.421875 0 \nz\n\" id=\"DejaVuSans-108\"/>\n       <path d=\"M 9.8125 72.90625 \nL 19.671875 72.90625 \nL 19.671875 0 \nL 9.8125 0 \nz\n\" id=\"DejaVuSans-73\"/>\n       <path d=\"M 53.515625 70.515625 \nL 53.515625 60.890625 \nQ 47.90625 63.578125 42.921875 64.890625 \nQ 37.9375 66.21875 33.296875 66.21875 \nQ 25.25 66.21875 20.875 63.09375 \nQ 16.5 59.96875 16.5 54.203125 \nQ 16.5 49.359375 19.40625 46.890625 \nQ 22.3125 44.4375 30.421875 42.921875 \nL 36.375 41.703125 \nQ 47.40625 39.59375 52.65625 34.296875 \nQ 57.90625 29 57.90625 20.125 \nQ 57.90625 9.515625 50.796875 4.046875 \nQ 43.703125 -1.421875 29.984375 -1.421875 \nQ 24.8125 -1.421875 18.96875 -0.25 \nQ 13.140625 0.921875 6.890625 3.21875 \nL 6.890625 13.375 \nQ 12.890625 10.015625 18.65625 8.296875 \nQ 24.421875 6.59375 29.984375 6.59375 \nQ 38.421875 6.59375 43.015625 9.90625 \nQ 47.609375 13.234375 47.609375 19.390625 \nQ 47.609375 24.75 44.3125 27.78125 \nQ 41.015625 30.8125 33.5 32.328125 \nL 27.484375 33.5 \nQ 16.453125 35.6875 11.515625 40.375 \nQ 6.59375 45.0625 6.59375 53.421875 \nQ 6.59375 63.09375 13.40625 68.65625 \nQ 20.21875 74.21875 32.171875 74.21875 \nQ 37.3125 74.21875 42.625 73.28125 \nQ 47.953125 72.359375 53.515625 70.515625 \nz\n\" id=\"DejaVuSans-83\"/>\n       <path d=\"M 34.1875 63.1875 \nL 20.796875 26.90625 \nL 47.609375 26.90625 \nz\nM 28.609375 72.90625 \nL 39.796875 72.90625 \nL 67.578125 0 \nL 57.328125 0 \nL 50.6875 18.703125 \nL 17.828125 18.703125 \nL 11.1875 0 \nL 0.78125 0 \nz\n\" id=\"DejaVuSans-65\"/>\n       <path d=\"M 4.890625 31.390625 \nL 31.203125 31.390625 \nL 31.203125 23.390625 \nL 4.890625 23.390625 \nz\n\" id=\"DejaVuSans-45\"/>\n       <path d=\"M 9.8125 72.90625 \nL 19.671875 72.90625 \nL 19.671875 8.296875 \nL 55.171875 8.296875 \nL 55.171875 0 \nL 9.8125 0 \nz\n\" id=\"DejaVuSans-76\"/>\n      </defs>\n      <use xlink:href=\"#DejaVuSans-116\"/>\n      <use x=\"39.208984\" xlink:href=\"#DejaVuSans-111\"/>\n      <use x=\"100.390625\" xlink:href=\"#DejaVuSans-114\"/>\n      <use x=\"139.753906\" xlink:href=\"#DejaVuSans-114\"/>\n      <use x=\"178.617188\" xlink:href=\"#DejaVuSans-101\"/>\n      <use x=\"240.140625\" xlink:href=\"#DejaVuSans-110\"/>\n      <use x=\"303.519531\" xlink:href=\"#DejaVuSans-116\"/>\n      <use x=\"342.728516\" xlink:href=\"#DejaVuSans-116\"/>\n      <use x=\"381.9375\" xlink:href=\"#DejaVuSans-111\"/>\n      <use x=\"443.119141\" xlink:href=\"#DejaVuSans-111\"/>\n      <use x=\"504.300781\" xlink:href=\"#DejaVuSans-108\"/>\n      <use x=\"532.083984\" xlink:href=\"#DejaVuSans-115\"/>\n      <use x=\"584.183594\" xlink:href=\"#DejaVuSans-32\"/>\n      <use x=\"615.970703\" xlink:href=\"#DejaVuSans-40\"/>\n      <use x=\"654.984375\" xlink:href=\"#DejaVuSans-73\"/>\n      <use x=\"684.476562\" xlink:href=\"#DejaVuSans-83\"/>\n      <use x=\"749.828125\" xlink:href=\"#DejaVuSans-65\"/>\n      <use x=\"815.986328\" xlink:href=\"#DejaVuSans-45\"/>\n      <use x=\"852.070312\" xlink:href=\"#DejaVuSans-76\"/>\n      <use x=\"907.783203\" xlink:href=\"#DejaVuSans-41\"/>\n     </g>\n    </g>\n    <g id=\"line2d_26\">\n     <path d=\"M 531.048125 50.094688 \nL 551.048125 50.094688 \n\" style=\"fill:none;stroke:#ff7f0e;stroke-linecap:square;stroke-width:1.5;\"/>\n    </g>\n    <g id=\"line2d_27\"/>\n    <g id=\"text_18\">\n     <!-- torrenttools (OpenSSL) -->\n     <g transform=\"translate(559.048125 53.594688)scale(0.1 -0.1)\">\n      <defs>\n       <path d=\"M 39.40625 66.21875 \nQ 28.65625 66.21875 22.328125 58.203125 \nQ 16.015625 50.203125 16.015625 36.375 \nQ 16.015625 22.609375 22.328125 14.59375 \nQ 28.65625 6.59375 39.40625 6.59375 \nQ 50.140625 6.59375 56.421875 14.59375 \nQ 62.703125 22.609375 62.703125 36.375 \nQ 62.703125 50.203125 56.421875 58.203125 \nQ 50.140625 66.21875 39.40625 66.21875 \nz\nM 39.40625 74.21875 \nQ 54.734375 74.21875 63.90625 63.9375 \nQ 73.09375 53.65625 73.09375 36.375 \nQ 73.09375 19.140625 63.90625 8.859375 \nQ 54.734375 -1.421875 39.40625 -1.421875 \nQ 24.03125 -1.421875 14.8125 8.828125 \nQ 5.609375 19.09375 5.609375 36.375 \nQ 5.609375 53.65625 14.8125 63.9375 \nQ 24.03125 74.21875 39.40625 74.21875 \nz\n\" id=\"DejaVuSans-79\"/>\n       <path d=\"M 18.109375 8.203125 \nL 18.109375 -20.796875 \nL 9.078125 -20.796875 \nL 9.078125 54.6875 \nL 18.109375 54.6875 \nL 18.109375 46.390625 \nQ 20.953125 51.265625 25.265625 53.625 \nQ 29.59375 56 35.59375 56 \nQ 45.5625 56 51.78125 48.09375 \nQ 58.015625 40.1875 58.015625 27.296875 \nQ 58.015625 14.40625 51.78125 6.484375 \nQ 45.5625 -1.421875 35.59375 -1.421875 \nQ 29.59375 -1.421875 25.265625 0.953125 \nQ 20.953125 3.328125 18.109375 8.203125 \nz\nM 48.6875 27.296875 \nQ 48.6875 37.203125 44.609375 42.84375 \nQ 40.53125 48.484375 33.40625 48.484375 \nQ 26.265625 48.484375 22.1875 42.84375 \nQ 18.109375 37.203125 18.109375 27.296875 \nQ 18.109375 17.390625 22.1875 11.75 \nQ 26.265625 6.109375 33.40625 6.109375 \nQ 40.53125 6.109375 44.609375 11.75 \nQ 48.6875 17.390625 48.6875 27.296875 \nz\n\" id=\"DejaVuSans-112\"/>\n      </defs>\n      <use xlink:href=\"#DejaVuSans-116\"/>\n      <use x=\"39.208984\" xlink:href=\"#DejaVuSans-111\"/>\n      <use x=\"100.390625\" xlink:href=\"#DejaVuSans-114\"/>\n      <use x=\"139.753906\" xlink:href=\"#DejaVuSans-114\"/>\n      <use x=\"178.617188\" xlink:href=\"#DejaVuSans-101\"/>\n      <use x=\"240.140625\" xlink:href=\"#DejaVuSans-110\"/>\n      <use x=\"303.519531\" xlink:href=\"#DejaVuSans-116\"/>\n      <use x=\"342.728516\" xlink:href=\"#DejaVuSans-116\"/>\n      <use x=\"381.9375\" xlink:href=\"#DejaVuSans-111\"/>\n      <use x=\"443.119141\" xlink:href=\"#DejaVuSans-111\"/>\n      <use x=\"504.300781\" xlink:href=\"#DejaVuSans-108\"/>\n      <use x=\"532.083984\" xlink:href=\"#DejaVuSans-115\"/>\n      <use x=\"584.183594\" xlink:href=\"#DejaVuSans-32\"/>\n      <use x=\"615.970703\" xlink:href=\"#DejaVuSans-40\"/>\n      <use x=\"654.984375\" xlink:href=\"#DejaVuSans-79\"/>\n      <use x=\"733.695312\" xlink:href=\"#DejaVuSans-112\"/>\n      <use x=\"797.171875\" xlink:href=\"#DejaVuSans-101\"/>\n      <use x=\"858.695312\" xlink:href=\"#DejaVuSans-110\"/>\n      <use x=\"922.074219\" xlink:href=\"#DejaVuSans-83\"/>\n      <use x=\"985.550781\" xlink:href=\"#DejaVuSans-83\"/>\n      <use x=\"1049.027344\" xlink:href=\"#DejaVuSans-76\"/>\n      <use x=\"1104.740234\" xlink:href=\"#DejaVuSans-41\"/>\n     </g>\n    </g>\n    <g id=\"line2d_28\">\n     <path d=\"M 531.048125 64.772813 \nL 551.048125 64.772813 \n\" style=\"fill:none;stroke:#2ca02c;stroke-linecap:square;stroke-width:1.5;\"/>\n    </g>\n    <g id=\"line2d_29\"/>\n    <g id=\"text_19\">\n     <!-- mktorrent -->\n     <g transform=\"translate(559.048125 68.272813)scale(0.1 -0.1)\">\n      <defs>\n       <path d=\"M 9.078125 75.984375 \nL 18.109375 75.984375 \nL 18.109375 31.109375 \nL 44.921875 54.6875 \nL 56.390625 54.6875 \nL 27.390625 29.109375 \nL 57.625 0 \nL 45.90625 0 \nL 18.109375 26.703125 \nL 18.109375 0 \nL 9.078125 0 \nz\n\" id=\"DejaVuSans-107\"/>\n      </defs>\n      <use xlink:href=\"#DejaVuSans-109\"/>\n      <use x=\"97.412109\" xlink:href=\"#DejaVuSans-107\"/>\n      <use x=\"155.322266\" xlink:href=\"#DejaVuSans-116\"/>\n      <use x=\"194.53125\" xlink:href=\"#DejaVuSans-111\"/>\n      <use x=\"255.712891\" xlink:href=\"#DejaVuSans-114\"/>\n      <use x=\"295.076172\" xlink:href=\"#DejaVuSans-114\"/>\n      <use x=\"333.939453\" xlink:href=\"#DejaVuSans-101\"/>\n      <use x=\"395.462891\" xlink:href=\"#DejaVuSans-110\"/>\n      <use x=\"458.841797\" xlink:href=\"#DejaVuSans-116\"/>\n     </g>\n    </g>\n    <g id=\"line2d_30\">\n     <path d=\"M 531.048125 79.450938 \nL 551.048125 79.450938 \n\" style=\"fill:none;stroke:#d62728;stroke-linecap:square;stroke-width:1.5;\"/>\n    </g>\n    <g id=\"line2d_31\"/>\n    <g id=\"text_20\">\n     <!-- torf-cli -->\n     <g transform=\"translate(559.048125 82.950938)scale(0.1 -0.1)\">\n      <use xlink:href=\"#DejaVuSans-116\"/>\n      <use x=\"39.208984\" xlink:href=\"#DejaVuSans-111\"/>\n      <use x=\"100.390625\" xlink:href=\"#DejaVuSans-114\"/>\n      <use x=\"141.503906\" xlink:href=\"#DejaVuSans-102\"/>\n      <use x=\"171.208984\" xlink:href=\"#DejaVuSans-45\"/>\n      <use x=\"207.292969\" xlink:href=\"#DejaVuSans-99\"/>\n      <use x=\"262.273438\" xlink:href=\"#DejaVuSans-108\"/>\n      <use x=\"290.056641\" xlink:href=\"#DejaVuSans-105\"/>\n     </g>\n    </g>\n    <g id=\"line2d_32\">\n     <path d=\"M 531.048125 94.129063 \nL 551.048125 94.129063 \n\" style=\"fill:none;stroke:#9467bd;stroke-linecap:square;stroke-width:1.5;\"/>\n    </g>\n    <g id=\"line2d_33\"/>\n    <g id=\"text_21\">\n     <!-- py3createtorrent -->\n     <g transform=\"translate(559.048125 97.629063)scale(0.1 -0.1)\">\n      <defs>\n       <path d=\"M 32.171875 -5.078125 \nQ 28.375 -14.84375 24.75 -17.8125 \nQ 21.140625 -20.796875 15.09375 -20.796875 \nL 7.90625 -20.796875 \nL 7.90625 -13.28125 \nL 13.1875 -13.28125 \nQ 16.890625 -13.28125 18.9375 -11.515625 \nQ 21 -9.765625 23.484375 -3.21875 \nL 25.09375 0.875 \nL 2.984375 54.6875 \nL 12.5 54.6875 \nL 29.59375 11.921875 \nL 46.6875 54.6875 \nL 56.203125 54.6875 \nz\n\" id=\"DejaVuSans-121\"/>\n      </defs>\n      <use xlink:href=\"#DejaVuSans-112\"/>\n      <use x=\"63.476562\" xlink:href=\"#DejaVuSans-121\"/>\n      <use x=\"122.65625\" xlink:href=\"#DejaVuSans-51\"/>\n      <use x=\"186.279297\" xlink:href=\"#DejaVuSans-99\"/>\n      <use x=\"241.259766\" xlink:href=\"#DejaVuSans-114\"/>\n      <use x=\"280.123047\" xlink:href=\"#DejaVuSans-101\"/>\n      <use x=\"341.646484\" xlink:href=\"#DejaVuSans-97\"/>\n      <use x=\"402.925781\" xlink:href=\"#DejaVuSans-116\"/>\n      <use x=\"442.134766\" xlink:href=\"#DejaVuSans-101\"/>\n      <use x=\"503.658203\" xlink:href=\"#DejaVuSans-116\"/>\n      <use x=\"542.867188\" xlink:href=\"#DejaVuSans-111\"/>\n      <use x=\"604.048828\" xlink:href=\"#DejaVuSans-114\"/>\n      <use x=\"643.412109\" xlink:href=\"#DejaVuSans-114\"/>\n      <use x=\"682.275391\" xlink:href=\"#DejaVuSans-101\"/>\n      <use x=\"743.798828\" xlink:href=\"#DejaVuSans-110\"/>\n      <use x=\"807.177734\" xlink:href=\"#DejaVuSans-116\"/>\n     </g>\n    </g>\n    <g id=\"line2d_34\">\n     <path d=\"M 531.048125 108.807187 \nL 551.048125 108.807187 \n\" style=\"fill:none;stroke:#8c564b;stroke-linecap:square;stroke-width:1.5;\"/>\n    </g>\n    <g id=\"line2d_35\"/>\n    <g id=\"text_22\">\n     <!-- transmission-create -->\n     <g transform=\"translate(559.048125 112.307187)scale(0.1 -0.1)\">\n      <use xlink:href=\"#DejaVuSans-116\"/>\n      <use x=\"39.208984\" xlink:href=\"#DejaVuSans-114\"/>\n      <use x=\"80.322266\" xlink:href=\"#DejaVuSans-97\"/>\n      <use x=\"141.601562\" xlink:href=\"#DejaVuSans-110\"/>\n      <use x=\"204.980469\" xlink:href=\"#DejaVuSans-115\"/>\n      <use x=\"257.080078\" xlink:href=\"#DejaVuSans-109\"/>\n      <use x=\"354.492188\" xlink:href=\"#DejaVuSans-105\"/>\n      <use x=\"382.275391\" xlink:href=\"#DejaVuSans-115\"/>\n      <use x=\"434.375\" xlink:href=\"#DejaVuSans-115\"/>\n      <use x=\"486.474609\" xlink:href=\"#DejaVuSans-105\"/>\n      <use x=\"514.257812\" xlink:href=\"#DejaVuSans-111\"/>\n      <use x=\"575.439453\" xlink:href=\"#DejaVuSans-110\"/>\n      <use x=\"638.818359\" xlink:href=\"#DejaVuSans-45\"/>\n      <use x=\"674.902344\" xlink:href=\"#DejaVuSans-99\"/>\n      <use x=\"729.882812\" xlink:href=\"#DejaVuSans-114\"/>\n      <use x=\"768.746094\" xlink:href=\"#DejaVuSans-101\"/>\n      <use x=\"830.269531\" xlink:href=\"#DejaVuSans-97\"/>\n      <use x=\"891.548828\" xlink:href=\"#DejaVuSans-116\"/>\n      <use x=\"930.757812\" xlink:href=\"#DejaVuSans-101\"/>\n     </g>\n    </g>\n    <g id=\"line2d_36\">\n     <path d=\"M 531.048125 123.485313 \nL 551.048125 123.485313 \n\" style=\"fill:none;stroke:#e377c2;stroke-linecap:square;stroke-width:1.5;\"/>\n    </g>\n    <g id=\"line2d_37\"/>\n    <g id=\"text_23\">\n     <!-- pyrocore -->\n     <g transform=\"translate(559.048125 126.985313)scale(0.1 -0.1)\">\n      <use xlink:href=\"#DejaVuSans-112\"/>\n      <use x=\"63.476562\" xlink:href=\"#DejaVuSans-121\"/>\n      <use x=\"122.65625\" xlink:href=\"#DejaVuSans-114\"/>\n      <use x=\"161.519531\" xlink:href=\"#DejaVuSans-111\"/>\n      <use x=\"222.701172\" xlink:href=\"#DejaVuSans-99\"/>\n      <use x=\"277.681641\" xlink:href=\"#DejaVuSans-111\"/>\n      <use x=\"338.863281\" xlink:href=\"#DejaVuSans-114\"/>\n      <use x=\"377.726562\" xlink:href=\"#DejaVuSans-101\"/>\n     </g>\n    </g>\n    <g id=\"line2d_38\">\n     <path d=\"M 531.048125 138.163437 \nL 551.048125 138.163437 \n\" style=\"fill:none;stroke:#7f7f7f;stroke-linecap:square;stroke-width:1.5;\"/>\n    </g>\n    <g id=\"line2d_39\"/>\n    <g id=\"text_24\">\n     <!-- buildtorrent -->\n     <g transform=\"translate(559.048125 141.663437)scale(0.1 -0.1)\">\n      <defs>\n       <path d=\"M 48.6875 27.296875 \nQ 48.6875 37.203125 44.609375 42.84375 \nQ 40.53125 48.484375 33.40625 48.484375 \nQ 26.265625 48.484375 22.1875 42.84375 \nQ 18.109375 37.203125 18.109375 27.296875 \nQ 18.109375 17.390625 22.1875 11.75 \nQ 26.265625 6.109375 33.40625 6.109375 \nQ 40.53125 6.109375 44.609375 11.75 \nQ 48.6875 17.390625 48.6875 27.296875 \nz\nM 18.109375 46.390625 \nQ 20.953125 51.265625 25.265625 53.625 \nQ 29.59375 56 35.59375 56 \nQ 45.5625 56 51.78125 48.09375 \nQ 58.015625 40.1875 58.015625 27.296875 \nQ 58.015625 14.40625 51.78125 6.484375 \nQ 45.5625 -1.421875 35.59375 -1.421875 \nQ 29.59375 -1.421875 25.265625 0.953125 \nQ 20.953125 3.328125 18.109375 8.203125 \nL 18.109375 0 \nL 9.078125 0 \nL 9.078125 75.984375 \nL 18.109375 75.984375 \nz\n\" id=\"DejaVuSans-98\"/>\n       <path d=\"M 8.5 21.578125 \nL 8.5 54.6875 \nL 17.484375 54.6875 \nL 17.484375 21.921875 \nQ 17.484375 14.15625 20.5 10.265625 \nQ 23.53125 6.390625 29.59375 6.390625 \nQ 36.859375 6.390625 41.078125 11.03125 \nQ 45.3125 15.671875 45.3125 23.6875 \nL 45.3125 54.6875 \nL 54.296875 54.6875 \nL 54.296875 0 \nL 45.3125 0 \nL 45.3125 8.40625 \nQ 42.046875 3.421875 37.71875 1 \nQ 33.40625 -1.421875 27.6875 -1.421875 \nQ 18.265625 -1.421875 13.375 4.4375 \nQ 8.5 10.296875 8.5 21.578125 \nz\nM 31.109375 56 \nz\n\" id=\"DejaVuSans-117\"/>\n      </defs>\n      <use xlink:href=\"#DejaVuSans-98\"/>\n      <use x=\"63.476562\" xlink:href=\"#DejaVuSans-117\"/>\n      <use x=\"126.855469\" xlink:href=\"#DejaVuSans-105\"/>\n      <use x=\"154.638672\" xlink:href=\"#DejaVuSans-108\"/>\n      <use x=\"182.421875\" xlink:href=\"#DejaVuSans-100\"/>\n      <use x=\"245.898438\" xlink:href=\"#DejaVuSans-116\"/>\n      <use x=\"285.107422\" xlink:href=\"#DejaVuSans-111\"/>\n      <use x=\"346.289062\" xlink:href=\"#DejaVuSans-114\"/>\n      <use x=\"385.652344\" xlink:href=\"#DejaVuSans-114\"/>\n      <use x=\"424.515625\" xlink:href=\"#DejaVuSans-101\"/>\n      <use x=\"486.039062\" xlink:href=\"#DejaVuSans-110\"/>\n      <use x=\"549.417969\" xlink:href=\"#DejaVuSans-116\"/>\n     </g>\n    </g>\n    <g id=\"line2d_40\">\n     <path d=\"M 531.048125 152.841563 \nL 551.048125 152.841563 \n\" style=\"fill:none;stroke:#bcbd22;stroke-linecap:square;stroke-width:1.5;\"/>\n    </g>\n    <g id=\"line2d_41\"/>\n    <g id=\"text_25\">\n     <!-- dottorrent-cli -->\n     <g transform=\"translate(559.048125 156.341563)scale(0.1 -0.1)\">\n      <use xlink:href=\"#DejaVuSans-100\"/>\n      <use x=\"63.476562\" xlink:href=\"#DejaVuSans-111\"/>\n      <use x=\"124.658203\" xlink:href=\"#DejaVuSans-116\"/>\n      <use x=\"163.867188\" xlink:href=\"#DejaVuSans-116\"/>\n      <use x=\"203.076172\" xlink:href=\"#DejaVuSans-111\"/>\n      <use x=\"264.257812\" xlink:href=\"#DejaVuSans-114\"/>\n      <use x=\"303.621094\" xlink:href=\"#DejaVuSans-114\"/>\n      <use x=\"342.484375\" xlink:href=\"#DejaVuSans-101\"/>\n      <use x=\"404.007812\" xlink:href=\"#DejaVuSans-110\"/>\n      <use x=\"467.386719\" xlink:href=\"#DejaVuSans-116\"/>\n      <use x=\"506.595703\" xlink:href=\"#DejaVuSans-45\"/>\n      <use x=\"542.679688\" xlink:href=\"#DejaVuSans-99\"/>\n      <use x=\"597.660156\" xlink:href=\"#DejaVuSans-108\"/>\n      <use x=\"625.443359\" xlink:href=\"#DejaVuSans-105\"/>\n     </g>\n    </g>\n    <g id=\"line2d_42\">\n     <path d=\"M 531.048125 167.519687 \nL 551.048125 167.519687 \n\" style=\"fill:none;stroke:#17becf;stroke-linecap:square;stroke-width:1.5;\"/>\n    </g>\n    <g id=\"line2d_43\"/>\n    <g id=\"text_26\">\n     <!-- imdl -->\n     <g transform=\"translate(559.048125 171.019687)scale(0.1 -0.1)\">\n      <use xlink:href=\"#DejaVuSans-105\"/>\n      <use x=\"27.783203\" xlink:href=\"#DejaVuSans-109\"/>\n      <use x=\"125.195312\" xlink:href=\"#DejaVuSans-100\"/>\n      <use x=\"188.671875\" xlink:href=\"#DejaVuSans-108\"/>\n     </g>\n    </g>\n   </g>\n  </g>\n </g>\n <defs>\n  <clipPath id=\"p4d0c9becf6\">\n   <rect height=\"434.88\" width=\"446.4\" x=\"53.328125\" y=\"22.318125\"/>\n  </clipPath>\n </defs>\n</svg>\n",
      "image/png": "[encoded data removed]"
     },
     "metadata": {}
    }
   ],
   "source": [
    "import matplotlib.cm\n",
    "fig, ax = plt.subplots(1, 1, figsize=(8, 8))\n",
    "\n",
    "programs = df.index.unique(level=1)\n",
    "threads = df.index.unique(level=0)\n",
    "programs_by_max_speed = {}\n",
    "\n",
    "for program in programs:\n",
    "    sm = df.loc[df.index.get_level_values(1) == program, \"speed_mean\"]\n",
    "    programs_by_max_speed[program] = np.max(sm)\n",
    "\n",
    "sorted_programs = sorted(programs_by_max_speed.keys(), key=lambda x : programs_by_max_speed[x], reverse=True)\n",
    "\n",
    "for idx, program in enumerate(sorted_programs):\n",
    "    sm = df.loc[df.index.get_level_values(1) == program, \"speed_mean\"]\n",
    "    sd = df.loc[df.index.get_level_values(1) == program, \"speed_stddev\"]\n",
    "    ax.plot(threads, sm)\n",
    "    ax.fill_between(threads, sm - sd, sm + sd, alpha=0.1)\n",
    "\n",
    "ax.set_title(\"Performance\")\n",
    "ax.set_xlabel(\"# hashing threads\")\n",
    "ax.set_ylabel(\"Hash rate (MiB/s)\")\n",
    "ax.set_xticks(list(range(1, max_threads+1)))\n",
    "ax.legend(sorted_programs, bbox_to_anchor=(1.05, 1), loc='upper left')\n",
    "fig.patch.set_facecolor(\"white\")"
   ]
  },
  {
   "cell_type": "code",
   "execution_count": null,
   "metadata": {},
   "outputs": [],
   "source": []
  },
  {
   "cell_type": "code",
   "execution_count": null,
   "metadata": {},
   "outputs": [],
   "source": []
  }
 ]
}