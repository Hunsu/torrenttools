{
 "metadata": {
  "language_info": {
   "codemirror_mode": {
    "name": "ipython",
    "version": 3
   },
   "file_extension": ".py",
   "mimetype": "text/x-python",
   "name": "python",
   "nbconvert_exporter": "python",
   "pygments_lexer": "ipython3",
   "version": "3.9.2-final"
  },
  "orig_nbformat": 2,
  "kernelspec": {
   "name": "python3",
   "display_name": "Python 3",
   "language": "python"
  }
 },
 "nbformat": 4,
 "nbformat_minor": 2,
 "cells": [
  {
   "cell_type": "code",
   "execution_count": 1,
   "metadata": {},
   "outputs": [],
   "source": [
    "import numpy as np\n",
    "import pandas as pd\n",
    "import matplotlib.pyplot as plt\n",
    "import re\n",
    "from IPython.display import Javascript\n",
    "import getpass"
   ]
  },
  {
   "cell_type": "code",
   "execution_count": 4,
   "metadata": {},
   "outputs": [],
   "source": [
    "password = None\n",
    "if password is None:\n",
    "    password = getpass.getpass()"
   ]
  },
  {
   "cell_type": "code",
   "execution_count": 3,
   "metadata": {},
   "outputs": [
    {
     "output_type": "stream",
     "name": "stdout",
     "text": [
      "[sudo] password for fbdtemme: Sorry, try again.\n",
      "[sudo] password for fbdtemme: \n",
      "\n",
      "\n",
      "^C\n"
     ]
    }
   ],
   "source": [
    "!echo $password | sudo -S mount -t tmpfs -o size=15g tmpfs /mnt/tmpfs/\n",
    "!cp -r ~/Documents/distros /mnt/tmpfs/"
   ]
  },
  {
   "cell_type": "code",
   "execution_count": 5,
   "metadata": {},
   "outputs": [],
   "source": [
    "pwd = \"/mnt/tmpfs\"\n",
    "max_threads = 4\n",
    "iterations = 5\n",
    "target = 'distros'"
   ]
  },
  {
   "cell_type": "code",
   "execution_count": 6,
   "metadata": {},
   "outputs": [],
   "source": [
    "fs = !du -b $pwd/$target | grep -o \"[0-9]*\"\n",
    "file_size = int(fs[0])"
   ]
  },
  {
   "cell_type": "code",
   "execution_count": 7,
   "metadata": {},
   "outputs": [
    {
     "output_type": "execute_result",
     "data": {
      "text/plain": [
       "13744259172"
      ]
     },
     "metadata": {},
     "execution_count": 7
    }
   ],
   "source": [
    "file_size"
   ]
  },
  {
   "cell_type": "code",
   "execution_count": 8,
   "metadata": {},
   "outputs": [
    {
     "output_type": "stream",
     "name": "stdout",
     "text": [
      "[sudo] password for fbdtemme: Setting cpu: 0\n",
      "Setting cpu: 1\n",
      "Setting cpu: 2\n",
      "Setting cpu: 3\n",
      "Setting cpu: 4\n",
      "Setting cpu: 5\n",
      "Setting cpu: 6\n",
      "Setting cpu: 7\n"
     ]
    }
   ],
   "source": [
    "# Disable cpu frequency scaling\n",
    "!echo $password | sudo -S cpupower frequency-set -g performance"
   ]
  },
  {
   "cell_type": "code",
   "execution_count": 9,
   "metadata": {},
   "outputs": [],
   "source": [
    "def parse_real_time(data: str):\n",
    "    results = []\n",
    "    match = re.search(R\"real\\s(\\d+)m([\\d.]+)s\", data)\n",
    "    minutes = float(match.group(1))\n",
    "    seconds = float(match.group(2))\n",
    "    return minutes * 60 + seconds\n",
    "\n",
    "def parse_real_time_sequence(data: str):\n",
    "    results = []\n",
    "    for match in re.findall(R\"real\\s(\\d+)m([\\d.]+)s\", data):\n",
    "        print(match[0])\n",
    "        print(match[1])\n",
    "        minutes = float(match[0])\n",
    "        seconds = float(match[1])\n",
    "        results.append(minutes * 60 + seconds)\n",
    "    return results"
   ]
  },
  {
   "cell_type": "code",
   "execution_count": 10,
   "metadata": {},
   "outputs": [],
   "source": [
    "data = {}"
   ]
  },
  {
   "cell_type": "code",
   "execution_count": 11,
   "metadata": {},
   "outputs": [],
   "source": [
    "def run_benchmark(name: str, use_threads:bool = True):\n",
    "    duration = np.ndarray(shape=(iterations, max_threads))\n",
    "    \n",
    "    if use_threads:\n",
    "        for t in range(1, max_threads+1):\n",
    "            for i in range(0, iterations):\n",
    "                result = !./benchmark.sh \"{name}\" \"{pwd}\" \"{target}\" \"{t}\"\n",
    "                result_str = '\\n'.join(result)\n",
    "                print(f\"-- iteration {i+1} | threads {t}\\n{result_str}\")\n",
    "                duration[i, t-1] = parse_real_time(result_str)\n",
    "    else:\n",
    "        for i in range(0, iterations):\n",
    "            t = 1\n",
    "            result = !./benchmark.sh \"{name}\" \"{pwd}\" \"{target}\" \"{t}\"\n",
    "            result_str = '\\n'.join(result)\n",
    "            print(f\"-- iteration {i+1} | threads {t}\\n{result_str}\")\n",
    "            duration[i, :] = parse_real_time(result_str)\n",
    "\n",
    "    speed = file_size / duration\n",
    "    mean = np.mean(speed, axis=0)\n",
    "    std  = np.std(speed, axis=0)\n",
    "    return (mean, std)"
   ]
  },
  {
   "source": [
    "### mktorrent"
   ],
   "cell_type": "markdown",
   "metadata": {}
  },
  {
   "source": [
    "mktorrent_data = run_benchmark(\"mktorrent\")"
   ],
   "cell_type": "code",
   "metadata": {},
   "execution_count": 12,
   "outputs": [
    {
     "output_type": "stream",
     "name": "stdout",
     "text": [
      "-- iteration 1 | threads 1\n",
      "\n",
      "real\t0m17.691s\n",
      "user\t0m17.348s\n",
      "sys\t0m4.444s\n",
      "\n",
      "-- iteration 2 | threads 1\n",
      "\n",
      "real\t0m16.449s\n",
      "user\t0m16.378s\n",
      "sys\t0m3.764s\n",
      "\n",
      "-- iteration 3 | threads 1\n",
      "\n",
      "real\t0m16.565s\n",
      "user\t0m16.529s\n",
      "sys\t0m4.142s\n",
      "\n",
      "-- iteration 4 | threads 1\n",
      "\n",
      "real\t0m16.707s\n",
      "user\t0m16.646s\n",
      "sys\t0m4.399s\n",
      "\n",
      "-- iteration 5 | threads 1\n",
      "\n",
      "real\t0m17.004s\n",
      "user\t0m16.854s\n",
      "sys\t0m4.812s\n",
      "\n",
      "-- iteration 1 | threads 2\n",
      "\n",
      "real\t0m9.657s\n",
      "user\t0m18.695s\n",
      "sys\t0m5.659s\n",
      "\n",
      "-- iteration 2 | threads 2\n",
      "\n",
      "real\t0m9.347s\n",
      "user\t0m18.429s\n",
      "sys\t0m5.626s\n",
      "\n",
      "-- iteration 3 | threads 2\n",
      "\n",
      "real\t0m9.406s\n",
      "user\t0m18.443s\n",
      "sys\t0m5.641s\n",
      "\n",
      "-- iteration 4 | threads 2\n",
      "\n",
      "real\t0m9.292s\n",
      "user\t0m18.308s\n",
      "sys\t0m5.459s\n",
      "\n",
      "-- iteration 5 | threads 2\n",
      "\n",
      "real\t0m9.280s\n",
      "user\t0m18.238s\n",
      "sys\t0m5.521s\n",
      "\n",
      "-- iteration 1 | threads 3\n",
      "\n",
      "real\t0m6.525s\n",
      "user\t0m19.217s\n",
      "sys\t0m5.316s\n",
      "\n",
      "-- iteration 2 | threads 3\n",
      "\n",
      "real\t0m6.581s\n",
      "user\t0m19.469s\n",
      "sys\t0m5.310s\n",
      "\n",
      "-- iteration 3 | threads 3\n",
      "\n",
      "real\t0m6.563s\n",
      "user\t0m19.314s\n",
      "sys\t0m5.341s\n",
      "\n",
      "-- iteration 4 | threads 3\n",
      "\n",
      "real\t0m6.774s\n",
      "user\t0m19.926s\n",
      "sys\t0m5.345s\n",
      "\n",
      "-- iteration 5 | threads 3\n",
      "\n",
      "real\t0m6.858s\n",
      "user\t0m20.204s\n",
      "sys\t0m5.415s\n",
      "\n",
      "-- iteration 1 | threads 4\n",
      "\n",
      "real\t0m6.023s\n",
      "user\t0m23.162s\n",
      "sys\t0m5.083s\n",
      "\n",
      "-- iteration 2 | threads 4\n",
      "\n",
      "real\t0m5.796s\n",
      "user\t0m22.410s\n",
      "sys\t0m4.841s\n",
      "\n",
      "-- iteration 3 | threads 4\n",
      "\n",
      "real\t0m5.675s\n",
      "user\t0m22.193s\n",
      "sys\t0m4.671s\n",
      "\n",
      "-- iteration 4 | threads 4\n",
      "\n",
      "real\t0m5.680s\n",
      "user\t0m22.238s\n",
      "sys\t0m4.633s\n",
      "\n",
      "-- iteration 5 | threads 4\n",
      "\n",
      "real\t0m5.851s\n",
      "user\t0m22.795s\n",
      "sys\t0m4.572s\n",
      "\n"
     ]
    }
   ]
  },
  {
   "cell_type": "code",
   "execution_count": 13,
   "metadata": {},
   "outputs": [
    {
     "output_type": "stream",
     "name": "stdout",
     "text": [
      "-- iteration 1 | threads 1\n",
      "\n",
      "real\t0m18.022s\n",
      "user\t0m17.741s\n",
      "sys\t0m4.572s\n",
      "\n",
      "-- iteration 2 | threads 1\n",
      "\n",
      "real\t0m18.018s\n",
      "user\t0m17.970s\n",
      "sys\t0m4.645s\n",
      "\n",
      "-- iteration 3 | threads 1\n",
      "\n",
      "real\t0m18.018s\n",
      "user\t0m17.336s\n",
      "sys\t0m4.120s\n",
      "\n",
      "-- iteration 4 | threads 1\n",
      "\n",
      "real\t0m18.018s\n",
      "user\t0m17.573s\n",
      "sys\t0m4.316s\n",
      "\n",
      "-- iteration 5 | threads 1\n",
      "\n",
      "real\t0m18.019s\n",
      "user\t0m18.029s\n",
      "sys\t0m4.588s\n",
      "\n",
      "-- iteration 1 | threads 2\n",
      "\n",
      "real\t0m10.019s\n",
      "user\t0m18.254s\n",
      "sys\t0m4.737s\n",
      "\n",
      "-- iteration 2 | threads 2\n",
      "\n",
      "real\t0m10.020s\n",
      "user\t0m18.224s\n",
      "sys\t0m4.553s\n",
      "\n",
      "-- iteration 3 | threads 2\n",
      "\n",
      "real\t0m10.020s\n",
      "user\t0m18.015s\n",
      "sys\t0m4.496s\n",
      "\n",
      "-- iteration 4 | threads 2\n",
      "\n",
      "real\t0m10.022s\n",
      "user\t0m19.211s\n",
      "sys\t0m5.284s\n",
      "\n",
      "-- iteration 5 | threads 2\n",
      "\n",
      "real\t0m10.019s\n",
      "user\t0m19.605s\n",
      "sys\t0m5.482s\n",
      "\n",
      "-- iteration 1 | threads 3\n",
      "\n",
      "real\t0m8.030s\n",
      "user\t0m21.087s\n",
      "sys\t0m5.462s\n",
      "\n",
      "-- iteration 2 | threads 3\n",
      "\n",
      "real\t0m8.030s\n",
      "user\t0m20.915s\n",
      "sys\t0m5.433s\n",
      "\n",
      "-- iteration 3 | threads 3\n",
      "\n",
      "real\t0m7.019s\n",
      "user\t0m19.704s\n",
      "sys\t0m5.357s\n",
      "\n",
      "-- iteration 4 | threads 3\n",
      "\n",
      "real\t0m8.018s\n",
      "user\t0m21.463s\n",
      "sys\t0m5.466s\n",
      "\n",
      "-- iteration 5 | threads 3\n",
      "\n",
      "real\t0m7.023s\n",
      "user\t0m20.523s\n",
      "sys\t0m5.434s\n",
      "\n",
      "-- iteration 1 | threads 4\n",
      "\n",
      "real\t0m6.030s\n",
      "user\t0m22.977s\n",
      "sys\t0m4.791s\n",
      "\n",
      "-- iteration 2 | threads 4\n",
      "\n",
      "real\t0m6.030s\n",
      "user\t0m23.199s\n",
      "sys\t0m4.836s\n",
      "\n",
      "-- iteration 3 | threads 4\n",
      "\n",
      "real\t0m7.031s\n",
      "user\t0m24.681s\n",
      "sys\t0m4.898s\n",
      "\n",
      "-- iteration 4 | threads 4\n",
      "\n",
      "real\t0m6.029s\n",
      "user\t0m21.757s\n",
      "sys\t0m4.655s\n",
      "\n",
      "-- iteration 5 | threads 4\n",
      "\n",
      "real\t0m6.030s\n",
      "user\t0m23.146s\n",
      "sys\t0m4.570s\n",
      "\n"
     ]
    }
   ],
   "source": [
    "torrenttools_openssl_data = run_benchmark(\"torrenttools_openssl\")"
   ]
  },
  {
   "cell_type": "code",
   "execution_count": 14,
   "metadata": {},
   "outputs": [
    {
     "output_type": "stream",
     "name": "stdout",
     "text": [
      "-- iteration 1 | threads 1\n",
      "\n",
      "real\t0m8.056s\n",
      "user\t0m7.082s\n",
      "sys\t0m4.005s\n",
      "\n",
      "-- iteration 2 | threads 1\n",
      "\n",
      "real\t0m8.034s\n",
      "user\t0m6.931s\n",
      "sys\t0m4.061s\n",
      "\n",
      "-- iteration 3 | threads 1\n",
      "\n",
      "real\t0m8.033s\n",
      "user\t0m7.279s\n",
      "sys\t0m4.213s\n",
      "\n",
      "-- iteration 4 | threads 1\n",
      "\n",
      "real\t0m8.038s\n",
      "user\t0m7.405s\n",
      "sys\t0m4.275s\n",
      "\n",
      "-- iteration 5 | threads 1\n",
      "\n",
      "real\t0m8.036s\n",
      "user\t0m7.327s\n",
      "sys\t0m4.300s\n",
      "\n",
      "-- iteration 1 | threads 2\n",
      "\n",
      "real\t0m5.039s\n",
      "user\t0m8.855s\n",
      "sys\t0m4.817s\n",
      "\n",
      "-- iteration 2 | threads 2\n",
      "\n",
      "real\t0m5.045s\n",
      "user\t0m8.703s\n",
      "sys\t0m4.752s\n",
      "\n",
      "-- iteration 3 | threads 2\n",
      "\n",
      "real\t0m5.043s\n",
      "user\t0m8.858s\n",
      "sys\t0m4.869s\n",
      "\n",
      "-- iteration 4 | threads 2\n",
      "\n",
      "real\t0m6.049s\n",
      "user\t0m8.799s\n",
      "sys\t0m4.907s\n",
      "\n",
      "-- iteration 5 | threads 2\n",
      "\n",
      "real\t0m6.048s\n",
      "user\t0m8.937s\n",
      "sys\t0m4.909s\n",
      "\n",
      "-- iteration 1 | threads 3\n",
      "\n",
      "real\t0m6.037s\n",
      "user\t0m9.880s\n",
      "sys\t0m5.065s\n",
      "\n",
      "-- iteration 2 | threads 3\n",
      "\n",
      "real\t0m6.049s\n",
      "user\t0m9.789s\n",
      "sys\t0m5.000s\n",
      "\n",
      "-- iteration 3 | threads 3\n",
      "\n",
      "real\t0m5.048s\n",
      "user\t0m9.704s\n",
      "sys\t0m4.863s\n",
      "\n",
      "-- iteration 4 | threads 3\n",
      "\n",
      "real\t0m5.047s\n",
      "user\t0m9.804s\n",
      "sys\t0m4.858s\n",
      "\n",
      "-- iteration 5 | threads 3\n",
      "\n",
      "real\t0m6.033s\n",
      "user\t0m9.739s\n",
      "sys\t0m4.898s\n",
      "\n",
      "-- iteration 1 | threads 4\n",
      "\n",
      "real\t0m6.047s\n",
      "user\t0m9.831s\n",
      "sys\t0m4.951s\n",
      "\n",
      "-- iteration 2 | threads 4\n",
      "\n",
      "real\t0m6.033s\n",
      "user\t0m9.908s\n",
      "sys\t0m4.982s\n",
      "\n",
      "-- iteration 3 | threads 4\n",
      "\n",
      "real\t0m6.046s\n",
      "user\t0m9.806s\n",
      "sys\t0m4.975s\n",
      "\n",
      "-- iteration 4 | threads 4\n",
      "\n",
      "real\t0m6.044s\n",
      "user\t0m9.963s\n",
      "sys\t0m5.031s\n",
      "\n",
      "-- iteration 5 | threads 4\n",
      "\n",
      "real\t0m5.047s\n",
      "user\t0m9.862s\n",
      "sys\t0m4.946s\n",
      "\n"
     ]
    }
   ],
   "source": [
    "torrenttools_isal_data = run_benchmark(\"torrenttools_isal\")"
   ]
  },
  {
   "cell_type": "code",
   "execution_count": 15,
   "metadata": {},
   "outputs": [
    {
     "output_type": "stream",
     "name": "stdout",
     "text": [
      "^C\n",
      "-- iteration 1 | threads 1\n",
      "\n"
     ]
    },
    {
     "output_type": "error",
     "ename": "AttributeError",
     "evalue": "'NoneType' object has no attribute 'group'",
     "traceback": [
      "\u001b[0;31m---------------------------------------------------------------------------\u001b[0m",
      "\u001b[0;31mAttributeError\u001b[0m                            Traceback (most recent call last)",
      "\u001b[0;32m<ipython-input-15-c5e678752078>\u001b[0m in \u001b[0;36m<module>\u001b[0;34m\u001b[0m\n\u001b[0;32m----> 1\u001b[0;31m \u001b[0mimdl_data\u001b[0m \u001b[0;34m=\u001b[0m \u001b[0mrun_benchmark\u001b[0m\u001b[0;34m(\u001b[0m\u001b[0;34m\"imdl\"\u001b[0m\u001b[0;34m,\u001b[0m \u001b[0muse_threads\u001b[0m\u001b[0;34m=\u001b[0m\u001b[0;32mFalse\u001b[0m\u001b[0;34m)\u001b[0m\u001b[0;34m\u001b[0m\u001b[0;34m\u001b[0m\u001b[0m\n\u001b[0m",
      "\u001b[0;32m<ipython-input-11-b3a8f331a34c>\u001b[0m in \u001b[0;36mrun_benchmark\u001b[0;34m(name, use_threads)\u001b[0m\n\u001b[1;32m     15\u001b[0m             \u001b[0mresult_str\u001b[0m \u001b[0;34m=\u001b[0m \u001b[0;34m'\\n'\u001b[0m\u001b[0;34m.\u001b[0m\u001b[0mjoin\u001b[0m\u001b[0;34m(\u001b[0m\u001b[0mresult\u001b[0m\u001b[0;34m)\u001b[0m\u001b[0;34m\u001b[0m\u001b[0;34m\u001b[0m\u001b[0m\n\u001b[1;32m     16\u001b[0m             \u001b[0mprint\u001b[0m\u001b[0;34m(\u001b[0m\u001b[0;34mf\"-- iteration {i+1} | threads {t}\\n{result_str}\"\u001b[0m\u001b[0;34m)\u001b[0m\u001b[0;34m\u001b[0m\u001b[0;34m\u001b[0m\u001b[0m\n\u001b[0;32m---> 17\u001b[0;31m             \u001b[0mduration\u001b[0m\u001b[0;34m[\u001b[0m\u001b[0mi\u001b[0m\u001b[0;34m,\u001b[0m \u001b[0;34m:\u001b[0m\u001b[0;34m]\u001b[0m \u001b[0;34m=\u001b[0m \u001b[0mparse_real_time\u001b[0m\u001b[0;34m(\u001b[0m\u001b[0mresult_str\u001b[0m\u001b[0;34m)\u001b[0m\u001b[0;34m\u001b[0m\u001b[0;34m\u001b[0m\u001b[0m\n\u001b[0m\u001b[1;32m     18\u001b[0m \u001b[0;34m\u001b[0m\u001b[0m\n\u001b[1;32m     19\u001b[0m     \u001b[0mspeed\u001b[0m \u001b[0;34m=\u001b[0m \u001b[0mfile_size\u001b[0m \u001b[0;34m/\u001b[0m \u001b[0mduration\u001b[0m\u001b[0;34m\u001b[0m\u001b[0;34m\u001b[0m\u001b[0m\n",
      "\u001b[0;32m<ipython-input-9-d9e5d24e800e>\u001b[0m in \u001b[0;36mparse_real_time\u001b[0;34m(data)\u001b[0m\n\u001b[1;32m      2\u001b[0m     \u001b[0mresults\u001b[0m \u001b[0;34m=\u001b[0m \u001b[0;34m[\u001b[0m\u001b[0;34m]\u001b[0m\u001b[0;34m\u001b[0m\u001b[0;34m\u001b[0m\u001b[0m\n\u001b[1;32m      3\u001b[0m     \u001b[0mmatch\u001b[0m \u001b[0;34m=\u001b[0m \u001b[0mre\u001b[0m\u001b[0;34m.\u001b[0m\u001b[0msearch\u001b[0m\u001b[0;34m(\u001b[0m\u001b[0;34mR\"real\\s(\\d+)m([\\d.]+)s\"\u001b[0m\u001b[0;34m,\u001b[0m \u001b[0mdata\u001b[0m\u001b[0;34m)\u001b[0m\u001b[0;34m\u001b[0m\u001b[0;34m\u001b[0m\u001b[0m\n\u001b[0;32m----> 4\u001b[0;31m     \u001b[0mminutes\u001b[0m \u001b[0;34m=\u001b[0m \u001b[0mfloat\u001b[0m\u001b[0;34m(\u001b[0m\u001b[0mmatch\u001b[0m\u001b[0;34m.\u001b[0m\u001b[0mgroup\u001b[0m\u001b[0;34m(\u001b[0m\u001b[0;36m1\u001b[0m\u001b[0;34m)\u001b[0m\u001b[0;34m)\u001b[0m\u001b[0;34m\u001b[0m\u001b[0;34m\u001b[0m\u001b[0m\n\u001b[0m\u001b[1;32m      5\u001b[0m     \u001b[0mseconds\u001b[0m \u001b[0;34m=\u001b[0m \u001b[0mfloat\u001b[0m\u001b[0;34m(\u001b[0m\u001b[0mmatch\u001b[0m\u001b[0;34m.\u001b[0m\u001b[0mgroup\u001b[0m\u001b[0;34m(\u001b[0m\u001b[0;36m2\u001b[0m\u001b[0;34m)\u001b[0m\u001b[0;34m)\u001b[0m\u001b[0;34m\u001b[0m\u001b[0;34m\u001b[0m\u001b[0m\n\u001b[1;32m      6\u001b[0m     \u001b[0;32mreturn\u001b[0m \u001b[0mminutes\u001b[0m \u001b[0;34m*\u001b[0m \u001b[0;36m60\u001b[0m \u001b[0;34m+\u001b[0m \u001b[0mseconds\u001b[0m\u001b[0;34m\u001b[0m\u001b[0;34m\u001b[0m\u001b[0m\n",
      "\u001b[0;31mAttributeError\u001b[0m: 'NoneType' object has no attribute 'group'"
     ]
    }
   ],
   "source": [
    "imdl_data = run_benchmark(\"imdl\", use_threads=False)"
   ]
  },
  {
   "cell_type": "code",
   "execution_count": null,
   "metadata": {},
   "outputs": [],
   "source": [
    "dottorrent_cli_data = run_benchmark(\"dottorrent-cli\", use_threads=False)"
   ]
  },
  {
   "cell_type": "code",
   "execution_count": null,
   "metadata": {},
   "outputs": [],
   "source": [
    "pyrocore_data = run_benchmark(\"pyrocore\", use_threads=False)"
   ]
  },
  {
   "cell_type": "code",
   "execution_count": null,
   "metadata": {},
   "outputs": [],
   "source": [
    "transmission_create_data = run_benchmark(\"transmission-create\", use_threads=False)"
   ]
  },
  {
   "cell_type": "code",
   "execution_count": null,
   "metadata": {},
   "outputs": [],
   "source": [
    "py3createtorrent_data = run_benchmark(\"py3createtorrent\", use_threads=False)"
   ]
  },
  {
   "cell_type": "code",
   "execution_count": null,
   "metadata": {},
   "outputs": [],
   "source": [
    "torf_data = run_benchmark(\"torf-cli\")"
   ]
  },
  {
   "cell_type": "code",
   "execution_count": null,
   "metadata": {},
   "outputs": [],
   "source": [
    "benchmark_data = {\n",
    "    \"mktorrent\": mktorrent_data, \n",
    "    \"imdl\": imdl_data,\n",
    "    \"dottorrent-cli\": dottorrent_cli_data,\n",
    "    \"pyrocore\": pyrocore_data,\n",
    "    \"transmission-create\": transmission_create_data,\n",
    "    \"py3createtorrent\" : py3createtorrent_data,\n",
    "    \"torf-cli\": torf_data,\n",
    "    \"torrenttools (OpenSSL)\": torrenttools_openssl_data,\n",
    "    \"torrenttools (ISA-L)\": torrenttools_isal_data,\n",
    "}"
   ]
  },
  {
   "cell_type": "code",
   "execution_count": null,
   "metadata": {},
   "outputs": [],
   "source": [
    "programs = list(benchmark_data.keys())\n",
    "threads = list(range(1, max_threads+1))\n",
    "index = pd.MultiIndex.from_product((threads, programs), names=[\"threads\", \"programs\"])\n",
    "\n",
    "speed_mean_data = {}\n",
    "speed_stddev_data = {}\n",
    "for program, data in benchmark_data.items():\n",
    "    speed_mean_data[program] = data[0]\n",
    "    speed_stddev_data[program] = data[1]\n",
    "    \n",
    "\n",
    "speed_mean = pd.DataFrame(speed_mean_data).stack()\n",
    "speed_stddev = pd.DataFrame(speed_stddev_data).stack()"
   ]
  },
  {
   "cell_type": "code",
   "execution_count": null,
   "metadata": {},
   "outputs": [],
   "source": [
    "df = pd.DataFrame()\n",
    "df[\"speed_mean\"], df[\"speed_stddev\"] = speed_mean / 1e6, speed_stddev / 1e6\n",
    "df.index = index"
   ]
  },
  {
   "cell_type": "code",
   "execution_count": 36,
   "metadata": {},
   "outputs": [
    {
     "output_type": "error",
     "ename": "ParserError",
     "evalue": "Passed header=1 but only 1 lines in file",
     "traceback": [
      "\u001b[0;31m---------------------------------------------------------------------------\u001b[0m",
      "\u001b[0;31mParserError\u001b[0m                               Traceback (most recent call last)",
      "\u001b[0;32m<ipython-input-36-74929bd92656>\u001b[0m in \u001b[0;36m<module>\u001b[0;34m\u001b[0m\n\u001b[1;32m      1\u001b[0m \u001b[0;31m# df.to_csv(\"benchmark.csv\")\u001b[0m\u001b[0;34m\u001b[0m\u001b[0;34m\u001b[0m\u001b[0;34m\u001b[0m\u001b[0m\n\u001b[0;32m----> 2\u001b[0;31m \u001b[0mdf\u001b[0m \u001b[0;34m=\u001b[0m \u001b[0mpd\u001b[0m\u001b[0;34m.\u001b[0m\u001b[0mread_csv\u001b[0m\u001b[0;34m(\u001b[0m\u001b[0;34m\"benchmark.csv\"\u001b[0m\u001b[0;34m,\u001b[0m \u001b[0mheader\u001b[0m\u001b[0;34m=\u001b[0m\u001b[0;36m1\u001b[0m\u001b[0;34m)\u001b[0m\u001b[0;34m\u001b[0m\u001b[0;34m\u001b[0m\u001b[0m\n\u001b[0m\u001b[1;32m      3\u001b[0m \u001b[0mdf\u001b[0m\u001b[0;34m\u001b[0m\u001b[0;34m\u001b[0m\u001b[0m\n",
      "\u001b[0;32m/usr/lib64/python3.9/site-packages/pandas/io/parsers.py\u001b[0m in \u001b[0;36mparser_f\u001b[0;34m(filepath_or_buffer, sep, delimiter, header, names, index_col, usecols, squeeze, prefix, mangle_dupe_cols, dtype, engine, converters, true_values, false_values, skipinitialspace, skiprows, skipfooter, nrows, na_values, keep_default_na, na_filter, verbose, skip_blank_lines, parse_dates, infer_datetime_format, keep_date_col, date_parser, dayfirst, cache_dates, iterator, chunksize, compression, thousands, decimal, lineterminator, quotechar, quoting, doublequote, escapechar, comment, encoding, dialect, error_bad_lines, warn_bad_lines, delim_whitespace, low_memory, memory_map, float_precision)\u001b[0m\n\u001b[1;32m    674\u001b[0m         )\n\u001b[1;32m    675\u001b[0m \u001b[0;34m\u001b[0m\u001b[0m\n\u001b[0;32m--> 676\u001b[0;31m         \u001b[0;32mreturn\u001b[0m \u001b[0m_read\u001b[0m\u001b[0;34m(\u001b[0m\u001b[0mfilepath_or_buffer\u001b[0m\u001b[0;34m,\u001b[0m \u001b[0mkwds\u001b[0m\u001b[0;34m)\u001b[0m\u001b[0;34m\u001b[0m\u001b[0;34m\u001b[0m\u001b[0m\n\u001b[0m\u001b[1;32m    677\u001b[0m \u001b[0;34m\u001b[0m\u001b[0m\n\u001b[1;32m    678\u001b[0m     \u001b[0mparser_f\u001b[0m\u001b[0;34m.\u001b[0m\u001b[0m__name__\u001b[0m \u001b[0;34m=\u001b[0m \u001b[0mname\u001b[0m\u001b[0;34m\u001b[0m\u001b[0;34m\u001b[0m\u001b[0m\n",
      "\u001b[0;32m/usr/lib64/python3.9/site-packages/pandas/io/parsers.py\u001b[0m in \u001b[0;36m_read\u001b[0;34m(filepath_or_buffer, kwds)\u001b[0m\n\u001b[1;32m    446\u001b[0m \u001b[0;34m\u001b[0m\u001b[0m\n\u001b[1;32m    447\u001b[0m     \u001b[0;31m# Create the parser.\u001b[0m\u001b[0;34m\u001b[0m\u001b[0;34m\u001b[0m\u001b[0;34m\u001b[0m\u001b[0m\n\u001b[0;32m--> 448\u001b[0;31m     \u001b[0mparser\u001b[0m \u001b[0;34m=\u001b[0m \u001b[0mTextFileReader\u001b[0m\u001b[0;34m(\u001b[0m\u001b[0mfp_or_buf\u001b[0m\u001b[0;34m,\u001b[0m \u001b[0;34m**\u001b[0m\u001b[0mkwds\u001b[0m\u001b[0;34m)\u001b[0m\u001b[0;34m\u001b[0m\u001b[0;34m\u001b[0m\u001b[0m\n\u001b[0m\u001b[1;32m    449\u001b[0m \u001b[0;34m\u001b[0m\u001b[0m\n\u001b[1;32m    450\u001b[0m     \u001b[0;32mif\u001b[0m \u001b[0mchunksize\u001b[0m \u001b[0;32mor\u001b[0m \u001b[0miterator\u001b[0m\u001b[0;34m:\u001b[0m\u001b[0;34m\u001b[0m\u001b[0;34m\u001b[0m\u001b[0m\n",
      "\u001b[0;32m/usr/lib64/python3.9/site-packages/pandas/io/parsers.py\u001b[0m in \u001b[0;36m__init__\u001b[0;34m(self, f, engine, **kwds)\u001b[0m\n\u001b[1;32m    878\u001b[0m             \u001b[0mself\u001b[0m\u001b[0;34m.\u001b[0m\u001b[0moptions\u001b[0m\u001b[0;34m[\u001b[0m\u001b[0;34m\"has_index_names\"\u001b[0m\u001b[0;34m]\u001b[0m \u001b[0;34m=\u001b[0m \u001b[0mkwds\u001b[0m\u001b[0;34m[\u001b[0m\u001b[0;34m\"has_index_names\"\u001b[0m\u001b[0;34m]\u001b[0m\u001b[0;34m\u001b[0m\u001b[0;34m\u001b[0m\u001b[0m\n\u001b[1;32m    879\u001b[0m \u001b[0;34m\u001b[0m\u001b[0m\n\u001b[0;32m--> 880\u001b[0;31m         \u001b[0mself\u001b[0m\u001b[0;34m.\u001b[0m\u001b[0m_make_engine\u001b[0m\u001b[0;34m(\u001b[0m\u001b[0mself\u001b[0m\u001b[0;34m.\u001b[0m\u001b[0mengine\u001b[0m\u001b[0;34m)\u001b[0m\u001b[0;34m\u001b[0m\u001b[0;34m\u001b[0m\u001b[0m\n\u001b[0m\u001b[1;32m    881\u001b[0m \u001b[0;34m\u001b[0m\u001b[0m\n\u001b[1;32m    882\u001b[0m     \u001b[0;32mdef\u001b[0m \u001b[0mclose\u001b[0m\u001b[0;34m(\u001b[0m\u001b[0mself\u001b[0m\u001b[0;34m)\u001b[0m\u001b[0;34m:\u001b[0m\u001b[0;34m\u001b[0m\u001b[0;34m\u001b[0m\u001b[0m\n",
      "\u001b[0;32m/usr/lib64/python3.9/site-packages/pandas/io/parsers.py\u001b[0m in \u001b[0;36m_make_engine\u001b[0;34m(self, engine)\u001b[0m\n\u001b[1;32m   1112\u001b[0m     \u001b[0;32mdef\u001b[0m \u001b[0m_make_engine\u001b[0m\u001b[0;34m(\u001b[0m\u001b[0mself\u001b[0m\u001b[0;34m,\u001b[0m \u001b[0mengine\u001b[0m\u001b[0;34m=\u001b[0m\u001b[0;34m\"c\"\u001b[0m\u001b[0;34m)\u001b[0m\u001b[0;34m:\u001b[0m\u001b[0;34m\u001b[0m\u001b[0;34m\u001b[0m\u001b[0m\n\u001b[1;32m   1113\u001b[0m         \u001b[0;32mif\u001b[0m \u001b[0mengine\u001b[0m \u001b[0;34m==\u001b[0m \u001b[0;34m\"c\"\u001b[0m\u001b[0;34m:\u001b[0m\u001b[0;34m\u001b[0m\u001b[0;34m\u001b[0m\u001b[0m\n\u001b[0;32m-> 1114\u001b[0;31m             \u001b[0mself\u001b[0m\u001b[0;34m.\u001b[0m\u001b[0m_engine\u001b[0m \u001b[0;34m=\u001b[0m \u001b[0mCParserWrapper\u001b[0m\u001b[0;34m(\u001b[0m\u001b[0mself\u001b[0m\u001b[0;34m.\u001b[0m\u001b[0mf\u001b[0m\u001b[0;34m,\u001b[0m \u001b[0;34m**\u001b[0m\u001b[0mself\u001b[0m\u001b[0;34m.\u001b[0m\u001b[0moptions\u001b[0m\u001b[0;34m)\u001b[0m\u001b[0;34m\u001b[0m\u001b[0;34m\u001b[0m\u001b[0m\n\u001b[0m\u001b[1;32m   1115\u001b[0m         \u001b[0;32melse\u001b[0m\u001b[0;34m:\u001b[0m\u001b[0;34m\u001b[0m\u001b[0;34m\u001b[0m\u001b[0m\n\u001b[1;32m   1116\u001b[0m             \u001b[0;32mif\u001b[0m \u001b[0mengine\u001b[0m \u001b[0;34m==\u001b[0m \u001b[0;34m\"python\"\u001b[0m\u001b[0;34m:\u001b[0m\u001b[0;34m\u001b[0m\u001b[0;34m\u001b[0m\u001b[0m\n",
      "\u001b[0;32m/usr/lib64/python3.9/site-packages/pandas/io/parsers.py\u001b[0m in \u001b[0;36m__init__\u001b[0;34m(self, src, **kwds)\u001b[0m\n\u001b[1;32m   1889\u001b[0m         \u001b[0mkwds\u001b[0m\u001b[0;34m[\u001b[0m\u001b[0;34m\"usecols\"\u001b[0m\u001b[0;34m]\u001b[0m \u001b[0;34m=\u001b[0m \u001b[0mself\u001b[0m\u001b[0;34m.\u001b[0m\u001b[0musecols\u001b[0m\u001b[0;34m\u001b[0m\u001b[0;34m\u001b[0m\u001b[0m\n\u001b[1;32m   1890\u001b[0m \u001b[0;34m\u001b[0m\u001b[0m\n\u001b[0;32m-> 1891\u001b[0;31m         \u001b[0mself\u001b[0m\u001b[0;34m.\u001b[0m\u001b[0m_reader\u001b[0m \u001b[0;34m=\u001b[0m \u001b[0mparsers\u001b[0m\u001b[0;34m.\u001b[0m\u001b[0mTextReader\u001b[0m\u001b[0;34m(\u001b[0m\u001b[0msrc\u001b[0m\u001b[0;34m,\u001b[0m \u001b[0;34m**\u001b[0m\u001b[0mkwds\u001b[0m\u001b[0;34m)\u001b[0m\u001b[0;34m\u001b[0m\u001b[0;34m\u001b[0m\u001b[0m\n\u001b[0m\u001b[1;32m   1892\u001b[0m         \u001b[0mself\u001b[0m\u001b[0;34m.\u001b[0m\u001b[0munnamed_cols\u001b[0m \u001b[0;34m=\u001b[0m \u001b[0mself\u001b[0m\u001b[0;34m.\u001b[0m\u001b[0m_reader\u001b[0m\u001b[0;34m.\u001b[0m\u001b[0munnamed_cols\u001b[0m\u001b[0;34m\u001b[0m\u001b[0;34m\u001b[0m\u001b[0m\n\u001b[1;32m   1893\u001b[0m \u001b[0;34m\u001b[0m\u001b[0m\n",
      "\u001b[0;32mpandas/_libs/parsers.pyx\u001b[0m in \u001b[0;36mpandas._libs.parsers.TextReader.__cinit__\u001b[0;34m()\u001b[0m\n",
      "\u001b[0;32mpandas/_libs/parsers.pyx\u001b[0m in \u001b[0;36mpandas._libs.parsers.TextReader._get_header\u001b[0;34m()\u001b[0m\n",
      "\u001b[0;31mParserError\u001b[0m: Passed header=1 but only 1 lines in file"
     ]
    }
   ],
   "source": [
    "# df.to_csv(\"benchmark.csv\")\n",
    "df = pd.read_csv(\"benchmark.csv\", header=1)\n",
    "df"
   ]
  },
  {
   "cell_type": "code",
   "execution_count": 35,
   "metadata": {},
   "outputs": [
    {
     "output_type": "error",
     "ename": "IndexError",
     "evalue": "Too many levels: Index has only 1 level, not 2",
     "traceback": [
      "\u001b[0;31m---------------------------------------------------------------------------\u001b[0m",
      "\u001b[0;31mIndexError\u001b[0m                                Traceback (most recent call last)",
      "\u001b[0;32m<ipython-input-35-5fba291c6919>\u001b[0m in \u001b[0;36m<module>\u001b[0;34m\u001b[0m\n\u001b[1;32m      2\u001b[0m \u001b[0mfig\u001b[0m\u001b[0;34m,\u001b[0m \u001b[0max\u001b[0m \u001b[0;34m=\u001b[0m \u001b[0mplt\u001b[0m\u001b[0;34m.\u001b[0m\u001b[0msubplots\u001b[0m\u001b[0;34m(\u001b[0m\u001b[0;36m1\u001b[0m\u001b[0;34m,\u001b[0m \u001b[0;36m1\u001b[0m\u001b[0;34m,\u001b[0m \u001b[0mfigsize\u001b[0m\u001b[0;34m=\u001b[0m\u001b[0;34m(\u001b[0m\u001b[0;36m8\u001b[0m\u001b[0;34m,\u001b[0m \u001b[0;36m8\u001b[0m\u001b[0;34m)\u001b[0m\u001b[0;34m)\u001b[0m\u001b[0;34m\u001b[0m\u001b[0;34m\u001b[0m\u001b[0m\n\u001b[1;32m      3\u001b[0m \u001b[0;34m\u001b[0m\u001b[0m\n\u001b[0;32m----> 4\u001b[0;31m \u001b[0mprograms\u001b[0m \u001b[0;34m=\u001b[0m \u001b[0mdf\u001b[0m\u001b[0;34m.\u001b[0m\u001b[0mindex\u001b[0m\u001b[0;34m.\u001b[0m\u001b[0munique\u001b[0m\u001b[0;34m(\u001b[0m\u001b[0mlevel\u001b[0m\u001b[0;34m=\u001b[0m\u001b[0;36m1\u001b[0m\u001b[0;34m)\u001b[0m\u001b[0;34m\u001b[0m\u001b[0;34m\u001b[0m\u001b[0m\n\u001b[0m\u001b[1;32m      5\u001b[0m \u001b[0mthreads\u001b[0m \u001b[0;34m=\u001b[0m \u001b[0mdf\u001b[0m\u001b[0;34m.\u001b[0m\u001b[0mindex\u001b[0m\u001b[0;34m.\u001b[0m\u001b[0munique\u001b[0m\u001b[0;34m(\u001b[0m\u001b[0mlevel\u001b[0m\u001b[0;34m=\u001b[0m\u001b[0;36m0\u001b[0m\u001b[0;34m)\u001b[0m\u001b[0;34m\u001b[0m\u001b[0;34m\u001b[0m\u001b[0m\n\u001b[1;32m      6\u001b[0m \u001b[0mprograms_by_max_speed\u001b[0m \u001b[0;34m=\u001b[0m \u001b[0;34m{\u001b[0m\u001b[0;34m}\u001b[0m\u001b[0;34m\u001b[0m\u001b[0;34m\u001b[0m\u001b[0m\n",
      "\u001b[0;32m/usr/lib64/python3.9/site-packages/pandas/core/indexes/base.py\u001b[0m in \u001b[0;36munique\u001b[0;34m(self, level)\u001b[0m\n\u001b[1;32m   1971\u001b[0m     \u001b[0;32mdef\u001b[0m \u001b[0munique\u001b[0m\u001b[0;34m(\u001b[0m\u001b[0mself\u001b[0m\u001b[0;34m,\u001b[0m \u001b[0mlevel\u001b[0m\u001b[0;34m=\u001b[0m\u001b[0;32mNone\u001b[0m\u001b[0;34m)\u001b[0m\u001b[0;34m:\u001b[0m\u001b[0;34m\u001b[0m\u001b[0;34m\u001b[0m\u001b[0m\n\u001b[1;32m   1972\u001b[0m         \u001b[0;32mif\u001b[0m \u001b[0mlevel\u001b[0m \u001b[0;32mis\u001b[0m \u001b[0;32mnot\u001b[0m \u001b[0;32mNone\u001b[0m\u001b[0;34m:\u001b[0m\u001b[0;34m\u001b[0m\u001b[0;34m\u001b[0m\u001b[0m\n\u001b[0;32m-> 1973\u001b[0;31m             \u001b[0mself\u001b[0m\u001b[0;34m.\u001b[0m\u001b[0m_validate_index_level\u001b[0m\u001b[0;34m(\u001b[0m\u001b[0mlevel\u001b[0m\u001b[0;34m)\u001b[0m\u001b[0;34m\u001b[0m\u001b[0;34m\u001b[0m\u001b[0m\n\u001b[0m\u001b[1;32m   1974\u001b[0m         \u001b[0mresult\u001b[0m \u001b[0;34m=\u001b[0m \u001b[0msuper\u001b[0m\u001b[0;34m(\u001b[0m\u001b[0;34m)\u001b[0m\u001b[0;34m.\u001b[0m\u001b[0munique\u001b[0m\u001b[0;34m(\u001b[0m\u001b[0;34m)\u001b[0m\u001b[0;34m\u001b[0m\u001b[0;34m\u001b[0m\u001b[0m\n\u001b[1;32m   1975\u001b[0m         \u001b[0;32mreturn\u001b[0m \u001b[0mself\u001b[0m\u001b[0;34m.\u001b[0m\u001b[0m_shallow_copy\u001b[0m\u001b[0;34m(\u001b[0m\u001b[0mresult\u001b[0m\u001b[0;34m)\u001b[0m\u001b[0;34m\u001b[0m\u001b[0;34m\u001b[0m\u001b[0m\n",
      "\u001b[0;32m/usr/lib64/python3.9/site-packages/pandas/core/indexes/base.py\u001b[0m in \u001b[0;36m_validate_index_level\u001b[0;34m(self, level)\u001b[0m\n\u001b[1;32m   1409\u001b[0m                 )\n\u001b[1;32m   1410\u001b[0m             \u001b[0;32melif\u001b[0m \u001b[0mlevel\u001b[0m \u001b[0;34m>\u001b[0m \u001b[0;36m0\u001b[0m\u001b[0;34m:\u001b[0m\u001b[0;34m\u001b[0m\u001b[0;34m\u001b[0m\u001b[0m\n\u001b[0;32m-> 1411\u001b[0;31m                 raise IndexError(\n\u001b[0m\u001b[1;32m   1412\u001b[0m                     \u001b[0;34mf\"Too many levels: Index has only 1 level, not {level + 1}\"\u001b[0m\u001b[0;34m\u001b[0m\u001b[0;34m\u001b[0m\u001b[0m\n\u001b[1;32m   1413\u001b[0m                 )\n",
      "\u001b[0;31mIndexError\u001b[0m: Too many levels: Index has only 1 level, not 2"
     ]
    }
   ],
   "source": [
    "import matplotlib.cm\n",
    "fig, ax = plt.subplots(1, 1, figsize=(8, 8))\n",
    "\n",
    "programs = df.index.unique(level=1)\n",
    "threads = df.index.unique(level=0)\n",
    "programs_by_max_speed = {}\n",
    "\n",
    "for program in programs:\n",
    "    sm = df.loc[df.index.get_level_values(1) == program, \"speed_mean\"]\n",
    "    programs_by_max_speed[program] = np.max(sm)\n",
    "\n",
    "sorted_programs = sorted(programs_by_max_speed.keys(), key=lambda x : programs_by_max_speed[x], reverse=True)\n",
    "\n",
    "for idx, program in enumerate(sorted_programs):\n",
    "    sm = df.loc[df.index.get_level_values(1) == program, \"speed_mean\"]\n",
    "    sd = df.loc[df.index.get_level_values(1) == program, \"speed_stddev\"]\n",
    "    ax.plot(threads, sm)\n",
    "    ax.fill_between(threads, sm - sd, sm + sd, alpha=0.1)\n",
    "\n",
    "ax.set_title(\"Performance\")\n",
    "ax.set_xlabel(\"# hashing threads\")\n",
    "ax.set_ylabel(\"Hash rate (MiB/s)\")\n",
    "ax.set_xticks(list(range(1, max_threads+1)))\n",
    "ax.legend(sorted_programs, bbox_to_anchor=(1.05, 1), loc='upper left')"
   ]
  },
  {
   "cell_type": "code",
   "execution_count": null,
   "metadata": {},
   "outputs": [],
   "source": []
  },
  {
   "cell_type": "code",
   "execution_count": null,
   "metadata": {},
   "outputs": [],
   "source": []
  }
 ]
}